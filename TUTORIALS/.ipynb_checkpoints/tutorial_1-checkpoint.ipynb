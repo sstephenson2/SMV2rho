{
 "cells": [
  {
   "cell_type": "markdown",
   "id": "49bd78df-5ba6-4f53-82c7-5d639464d811",
   "metadata": {},
   "source": [
    "# SMV2rho: Tutorial 1"
   ]
  },
  {
   "cell_type": "markdown",
   "id": "997dcba2-f927-41fe-8fca-0f9f56e2dd96",
   "metadata": {},
   "source": [
    "This notebook will show you how to load a velocity profile into `SMV2rho`.\n",
    "\n",
    "The installation of SMV2rho should have checked that all dependencies are installed.  If errors arise relating to missing modules such as `numpy`, then please refere to `README.md` for further information."
   ]
  },
  {
   "cell_type": "markdown",
   "id": "9709e075-d799-4647-96d3-15bf2c6d094b",
   "metadata": {},
   "source": [
    "## Importing the relevant modules\n",
    "\n",
    "For this tutorial we need to import the `plotting` and `density_functions` modules from the `SMV2rho` package."
   ]
  },
  {
   "cell_type": "code",
   "execution_count": 15,
   "id": "9abbc485-3e17-4a54-84a4-aab1f9e4f731",
   "metadata": {},
   "outputs": [],
   "source": [
    "from SMV2rho import plotting as pl\n",
    "from SMV2rho import density_functions as d"
   ]
  },
  {
   "cell_type": "markdown",
   "id": "052156c7-b743-4bef-8c74-469436ca2073",
   "metadata": {},
   "source": [
    "## File layout\n",
    "\n",
    "First let's take a look at the necessary file structure required by this family of programs.\n",
    "\n",
    "The required file format is strict because the scripts will read the file in a particular order.  If the file is not presented in this format then errors will occur that could lead to erroneous results.  Please note that this requirement means that continuous 3-D velocity models must first be converted into 1-D profiles before using the software.  Run the following cell to see the required file layout.  Note only ascii text files with the `.dat` suffix are acceptable.\n",
    "\n",
    "Depth must be in the **second column** and **negative**.  At this stage it does not matter, but when coverting profiles later on, depth must be in **km/s** and depth in **negative km**.\n",
    "\n",
    "First we will use a local file stored in the `TEST_DATA` directory with this distribution."
   ]
  },
  {
   "cell_type": "code",
   "execution_count": 47,
   "id": "3bd35fac-56fe-4cae-ae16-fd32c1a87e6b",
   "metadata": {},
   "outputs": [
    {
     "name": "stdout",
     "output_type": "stream",
     "text": [
      "\n",
      "Example file:\n",
      "        ID \n",
      "        lon lat \n",
      "        crustal_thickness \n",
      "        V  -depth \n",
      "        .   . \n",
      "        .   . \n",
      "        .   . \n",
      "\n"
     ]
    }
   ],
   "source": [
    "# plot an example data file\n",
    "print(\"\\nExample file:\\n \\\n",
    "       ID \\n \\\n",
    "       lon lat \\n \\\n",
    "       crustal_thickness \\n \\\n",
    "       V  -depth \\n \\\n",
    "       .   . \\n \\\n",
    "       .   . \\n \\\n",
    "       .   . \\n\")\n"
   ]
  },
  {
   "cell_type": "code",
   "execution_count": 48,
   "id": "65ec0f39-336e-48e3-8723-923e8fbf5f1a",
   "metadata": {},
   "outputs": [
    {
     "name": "stdout",
     "output_type": "stream",
     "text": [
      "Real file...\n",
      "\n",
      "M19_AQU_Vp\n",
      "13.48\t42.34\n",
      "37.2\n",
      "4.84865  0\n",
      "4.84865  -2.5\n",
      "7.23144  -2.5\n",
      "7.23144  -16.2\n",
      "6.42768  -16.2\n",
      "6.42768  -37.2\n",
      "6.55704  -37.2\n",
      "6.55704  -65.9\n",
      "\n"
     ]
    }
   ],
   "source": [
    "# path to test velocity file\n",
    "#  - this file comes with the distribution so there is no need to change this path\n",
    "vp_file = \"../TEST_DATA/EUROPE/Vp/RECEIVER_FUNCTION/DATA/M19_AQU_Vp.dat\"\n",
    "\n",
    "# print the file format\n",
    "print(\"Real file...\\n\")\n",
    "pl.print_text_file(vp_file)"
   ]
  },
  {
   "cell_type": "markdown",
   "id": "5197a567-24be-4457-8a4a-8442aa701b49",
   "metadata": {},
   "source": [
    "## Loading files\n",
    "\n",
    "We will now load this velocity profile into the program using the Conver class.\n",
    "Note if the `profile_type` variable is not set, you will receive a `ValueError` asking for `profile_type` to be set.  This error is raised so that the program knows how to needs to handle dofferent file types."
   ]
  },
  {
   "cell_type": "code",
   "execution_count": 49,
   "id": "5fb40eff-0404-49c2-a755-dd9637fae44b",
   "metadata": {},
   "outputs": [],
   "source": [
    "# load a profile into the Convert class\n",
    "profile = d.Convert(vp_file, profile_type = \"Vp\")"
   ]
  },
  {
   "cell_type": "markdown",
   "id": "658fd64a-5d62-4f26-9282-3304462e6932",
   "metadata": {},
   "source": [
    "Documentation for all objects (e.g. modules, classes, functions) is availiable by typing the object of interest followed by a queastion mark, like this..."
   ]
  },
  {
   "cell_type": "code",
   "execution_count": 50,
   "id": "61ae90e6-5620-4fff-9808-6c2952fc2804",
   "metadata": {},
   "outputs": [
    {
     "data": {
      "text/plain": [
       "\u001b[0;31mInit signature:\u001b[0m \u001b[0md\u001b[0m\u001b[0;34m.\u001b[0m\u001b[0mConvert\u001b[0m\u001b[0;34m(\u001b[0m\u001b[0mprofile\u001b[0m\u001b[0;34m,\u001b[0m \u001b[0mprofile_type\u001b[0m\u001b[0;34m=\u001b[0m\u001b[0;32mNone\u001b[0m\u001b[0;34m,\u001b[0m \u001b[0mregion_name\u001b[0m\u001b[0;34m=\u001b[0m\u001b[0;32mNone\u001b[0m\u001b[0;34m)\u001b[0m\u001b[0;34m\u001b[0m\u001b[0;34m\u001b[0m\u001b[0m\n",
       "\u001b[0;31mDocstring:\u001b[0m     \n",
       "Convert seismic velocity profiles to various parameters using different \n",
       "approaches.\n",
       "\n",
       "This class provides methods to read seismic velocity profiles, convert \n",
       "them to other parameters, and write the converted data to output files.\n",
       "\n",
       "Args:\n",
       "    profile (str): The file path to the seismic profile data.\n",
       "    profile_type (str): The type of the seismic profile, either \"Vp\" or \n",
       "        \"Vs.\"\n",
       "    region_name (str, optional): The geographic location of the profile, \n",
       "        e.g., \"MADAGASCAR.\" (default is None)\n",
       "\n",
       "Attributes:\n",
       "    data (dict): A dictionary containing parsed seismic profile data.\n",
       "    moho (float): The Moho depth parsed from the profile data.\n",
       "\n",
       "Methods:\n",
       "    read_data: Read in data file and parse it into a data dictionary.\n",
       "    convert_profile_brocher: Convert Vs profile to Vp profile using \n",
       "        Brocher's (2005) approach.\n",
       "    Vp_to_density_brocher: Convert Vp profile to density using Brocher \n",
       "        (2005) method.\n",
       "    V_to_density_stephenson: Convert Vp profile to density using the \n",
       "        Stephenson method described in the study.\n",
       "    write_data: Write the converted data to appropriate file locations \n",
       "    based on the specified conversion approach and temperature \n",
       "    dependence settings.\n",
       "\u001b[0;31mFile:\u001b[0m           ~/Work/SMV2rho/src/SMV2rho/density_functions.py\n",
       "\u001b[0;31mType:\u001b[0m           type\n",
       "\u001b[0;31mSubclasses:\u001b[0m     "
      ]
     },
     "metadata": {},
     "output_type": "display_data"
    }
   ],
   "source": [
    "# manual for Convert class\n",
    "d.Convert?"
   ]
  },
  {
   "cell_type": "markdown",
   "id": "9b66307a-2100-4628-9216-103f4c0e9d6f",
   "metadata": {},
   "source": [
    "## Reading the file\n",
    "\n",
    "We will now read the profile and generate a `\"Vp\"` attribute to the `profile` class instance.  The `read_data` method will unpack the information contained in the file and calculate the average velocity for the profile.\n",
    "\n",
    "The data,`profile.data`, will be stored as a disctionary."
   ]
  },
  {
   "cell_type": "code",
   "execution_count": 59,
   "id": "3862939b-48f1-44f9-8932-e2dd46c954ac",
   "metadata": {},
   "outputs": [
    {
     "data": {
      "text/plain": [
       "{'station': 'M19_AQU_Vp',\n",
       " 'Vp_file': '../TEST_DATA/EUROPE/Vp/RECEIVER_FUNCTION/DATA/M19_AQU_Vp.dat',\n",
       " 'region': None,\n",
       " 'moho': 37.2,\n",
       " 'location': array([13.48, 42.34]),\n",
       " 'av_Vp': 6.617358544354839,\n",
       " 'Vp': array([[  0.     ,   4.84865],\n",
       "        [ -2.5    ,   4.84865],\n",
       "        [ -2.51   ,   7.23144],\n",
       "        [-16.2    ,   7.23144],\n",
       "        [-16.21   ,   6.42768],\n",
       "        [-37.2    ,   6.42768]]),\n",
       " 'type': 'Vp',\n",
       " 'method': 'RECEIVER_FUNCTION'}"
      ]
     },
     "execution_count": 59,
     "metadata": {},
     "output_type": "execute_result"
    }
   ],
   "source": [
    "# read in the file\n",
    "profile.read_data()\n",
    "\n",
    "# print the data dictionary\n",
    "profile.data"
   ]
  },
  {
   "cell_type": "markdown",
   "id": "2e1f10d7-4c14-41a6-ae5e-d005d5389a54",
   "metadata": {},
   "source": [
    "We can inspect the different data types that are stored using..."
   ]
  },
  {
   "cell_type": "code",
   "execution_count": 68,
   "id": "d7da0724-36e6-4291-bcf6-7a920a663e77",
   "metadata": {},
   "outputs": [
    {
     "data": {
      "text/plain": [
       "dict_keys(['station', 'Vp_file', 'region', 'moho', 'location', 'av_Vp', 'Vp', 'type', 'method'])"
      ]
     },
     "execution_count": 68,
     "metadata": {},
     "output_type": "execute_result"
    }
   ],
   "source": [
    "# show velocity profile dictionary keys\n",
    "profile.data.keys()"
   ]
  },
  {
   "cell_type": "markdown",
   "id": "9ee84950-e4fd-44b4-92cc-5a023785e666",
   "metadata": {},
   "source": [
    "We can access different variables, such as the average, bulk velocity by querying this dictionary."
   ]
  },
  {
   "cell_type": "code",
   "execution_count": 69,
   "id": "a94027ae-cbd2-42ec-9d79-738fb5b148a9",
   "metadata": {},
   "outputs": [
    {
     "name": "stdout",
     "output_type": "stream",
     "text": [
      "6.617358544354839\n",
      "37.2\n"
     ]
    }
   ],
   "source": [
    "# print average velocity and moho depth\n",
    "print(profile.data['av_Vp'])\n",
    "print(profile.data['moho'])"
   ]
  },
  {
   "cell_type": "markdown",
   "id": "b58d65f6-3584-4e98-a6d8-4065924e6564",
   "metadata": {},
   "source": [
    "## Summary\n",
    "\n",
    "We have now imported modules, loaded a velocity profiles and interrogated some of their attributes."
   ]
  },
  {
   "cell_type": "code",
   "execution_count": null,
   "id": "e659c99b-1e41-4c0a-8dfd-75ac41a4078e",
   "metadata": {},
   "outputs": [],
   "source": []
  }
 ],
 "metadata": {
  "kernelspec": {
   "display_name": "Python 3 (ipykernel)",
   "language": "python",
   "name": "python3"
  },
  "language_info": {
   "codemirror_mode": {
    "name": "ipython",
    "version": 3
   },
   "file_extension": ".py",
   "mimetype": "text/x-python",
   "name": "python",
   "nbconvert_exporter": "python",
   "pygments_lexer": "ipython3",
   "version": "3.11.5"
  }
 },
 "nbformat": 4,
 "nbformat_minor": 5
}
