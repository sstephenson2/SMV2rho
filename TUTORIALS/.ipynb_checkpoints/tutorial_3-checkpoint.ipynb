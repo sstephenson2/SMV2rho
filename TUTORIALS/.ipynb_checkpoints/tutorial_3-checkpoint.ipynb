{
 "cells": [
  {
   "cell_type": "markdown",
   "id": "84c87079-f27b-4458-ba34-e2192d9e0977",
   "metadata": {},
   "source": [
    "# SMV2rho: Tutorial 3\n",
    "\n",
    "In this tutorial we will convert a Vs profile to density using Brocher's (2005) approach.\n",
    "\n",
    "First let's import the required modules from `SMV2rho`."
   ]
  },
  {
   "cell_type": "code",
   "execution_count": 1,
   "id": "9e4e0224-cf2b-4d5d-b98a-7f963a331fcc",
   "metadata": {},
   "outputs": [
    {
     "name": "stdout",
     "output_type": "stream",
     "text": [
      "Intel MKL WARNING: Support of Intel(R) Streaming SIMD Extensions 4.2 (Intel(R) SSE4.2) enabled only processors has been deprecated. Intel oneAPI Math Kernel Library 2025.0 will require Intel(R) Advanced Vector Extensions (Intel(R) AVX) instructions.\n",
      "Intel MKL WARNING: Support of Intel(R) Streaming SIMD Extensions 4.2 (Intel(R) SSE4.2) enabled only processors has been deprecated. Intel oneAPI Math Kernel Library 2025.0 will require Intel(R) Advanced Vector Extensions (Intel(R) AVX) instructions.\n"
     ]
    }
   ],
   "source": [
    "# import modules\n",
    "from SMV2rho import plotting as smplt\n",
    "from SMV2rho import density_functions as smd"
   ]
  },
  {
   "cell_type": "markdown",
   "id": "16f943dc-816b-4556-8537-3b158f40058d",
   "metadata": {},
   "source": [
    "## Class approach\n",
    "### Load file\n",
    "\n",
    "We can load in the test Vp velocity profile.  We will use the `profile_type` variable to label the profile \"Vs\"."
   ]
  },
  {
   "cell_type": "code",
   "execution_count": 4,
   "id": "2f8d12f6-9c29-4510-bcf6-6c61a630c0a9",
   "metadata": {},
   "outputs": [],
   "source": [
    "# path to test velocity file\n",
    "#  - this file comes with the distribution so there is no need to change this path\n",
    "vp_file = \"../TEST_DATA/HUDSON_BAY/Vs/RECEIVER_FUNCTION/DATA/AKVQ.dat\"\n",
    "#vp_file = \"AKVQ.dat\"\n",
    "\n",
    "# load a profile into the Convert class -- note this time we are labellig the profile_type \"Vs\"\n",
    "profile = smd.Convert(vp_file, profile_type = \"Vs\")"
   ]
  },
  {
   "cell_type": "markdown",
   "id": "4eaf759c-f2ab-40f1-b61a-c5f1c4dcc6dc",
   "metadata": {},
   "source": [
    "### Read data\n",
    "\n",
    "Now read the data in the velocity profile file."
   ]
  },
  {
   "cell_type": "code",
   "execution_count": 5,
   "id": "e5315dae-c192-4f1f-a66e-41995702fd9b",
   "metadata": {},
   "outputs": [
    {
     "ename": "IndexError",
     "evalue": "list index out of range",
     "output_type": "error",
     "traceback": [
      "\u001b[0;31m---------------------------------------------------------------------------\u001b[0m",
      "\u001b[0;31mIndexError\u001b[0m                                Traceback (most recent call last)",
      "Cell \u001b[0;32mIn[5], line 2\u001b[0m\n\u001b[1;32m      1\u001b[0m \u001b[38;5;66;03m# read data\u001b[39;00m\n\u001b[0;32m----> 2\u001b[0m \u001b[43mprofile\u001b[49m\u001b[38;5;241;43m.\u001b[39;49m\u001b[43mread_data\u001b[49m\u001b[43m(\u001b[49m\u001b[43m)\u001b[49m\n\u001b[1;32m      4\u001b[0m \u001b[38;5;66;03m# print data dictionary\u001b[39;00m\n\u001b[1;32m      5\u001b[0m profile\u001b[38;5;241m.\u001b[39mdata\n",
      "File \u001b[0;32m~/Work/SMV2rho/src/SMV2rho/density_functions.py:236\u001b[0m, in \u001b[0;36mConvert.read_data\u001b[0;34m(self)\u001b[0m\n\u001b[1;32m    233\u001b[0m data \u001b[38;5;241m=\u001b[39m read_file(\u001b[38;5;28mself\u001b[39m\u001b[38;5;241m.\u001b[39mprofile)\n\u001b[1;32m    235\u001b[0m \u001b[38;5;66;03m# method type from file string (e.g. refraction, reflection, RF etc.)\u001b[39;00m\n\u001b[0;32m--> 236\u001b[0m method \u001b[38;5;241m=\u001b[39m \u001b[38;5;28;43mself\u001b[39;49m\u001b[38;5;241;43m.\u001b[39;49m\u001b[43mprofile\u001b[49m\u001b[38;5;241;43m.\u001b[39;49m\u001b[43msplit\u001b[49m\u001b[43m(\u001b[49m\u001b[43mos\u001b[49m\u001b[38;5;241;43m.\u001b[39;49m\u001b[43mpath\u001b[49m\u001b[38;5;241;43m.\u001b[39;49m\u001b[43msep\u001b[49m\u001b[43m)\u001b[49m\u001b[43m[\u001b[49m\u001b[38;5;241;43m-\u001b[39;49m\u001b[38;5;241;43m3\u001b[39;49m\u001b[43m]\u001b[49m\n\u001b[1;32m    238\u001b[0m \u001b[38;5;66;03m# record header data as variables\u001b[39;00m\n\u001b[1;32m    239\u001b[0m station \u001b[38;5;241m=\u001b[39m data[\u001b[38;5;241m0\u001b[39m][\u001b[38;5;241m0\u001b[39m]\n",
      "\u001b[0;31mIndexError\u001b[0m: list index out of range"
     ]
    }
   ],
   "source": [
    "# read data\n",
    "profile.read_data()\n",
    "\n",
    "# print data dictionary\n",
    "profile.data"
   ]
  },
  {
   "cell_type": "code",
   "execution_count": null,
   "id": "6a108686-c30a-42be-b0b2-bd243a7b5a0b",
   "metadata": {},
   "outputs": [],
   "source": []
  }
 ],
 "metadata": {
  "kernelspec": {
   "display_name": "Python 3 (ipykernel)",
   "language": "python",
   "name": "python3"
  },
  "language_info": {
   "codemirror_mode": {
    "name": "ipython",
    "version": 3
   },
   "file_extension": ".py",
   "mimetype": "text/x-python",
   "name": "python",
   "nbconvert_exporter": "python",
   "pygments_lexer": "ipython3",
   "version": "3.11.5"
  }
 },
 "nbformat": 4,
 "nbformat_minor": 5
}
