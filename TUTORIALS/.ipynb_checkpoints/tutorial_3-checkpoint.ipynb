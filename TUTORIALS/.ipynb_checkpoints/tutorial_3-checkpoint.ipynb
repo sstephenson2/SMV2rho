{
 "cells": [
  {
   "cell_type": "markdown",
   "id": "84c87079-f27b-4458-ba34-e2192d9e0977",
   "metadata": {},
   "source": [
    "# SMV2rho: Tutorial 3\n",
    "\n",
    "In this tutorial we will convert a Vs profile to density using Brocher's (2005) approach.\n",
    "\n",
    "First let's import the required modules from `SMV2rho`."
   ]
  },
  {
   "cell_type": "code",
   "execution_count": 3,
   "id": "9e4e0224-cf2b-4d5d-b98a-7f963a331fcc",
   "metadata": {},
   "outputs": [],
   "source": [
    "# import modules\n",
    "from SMV2rho import plotting as smplt\n",
    "from SMV2rho import density_functions as smd"
   ]
  },
  {
   "cell_type": "markdown",
   "id": "16f943dc-816b-4556-8537-3b158f40058d",
   "metadata": {},
   "source": [
    "## Class approach\n",
    "### Load file\n",
    "\n",
    "We can load in the test Vp velocity profile.  We will use the `profile_type` variable to label the profile \"Vs\".  We will tell the program that the profile is in the Europe region.  Note that if this is not set, then the region will be set to either \"None\" or will be picked up from the file string.  It can only be picked up automatically from the file string if the correct file structure is being used!"
   ]
  },
  {
   "cell_type": "code",
   "execution_count": 6,
   "id": "2f8d12f6-9c29-4510-bcf6-6c61a630c0a9",
   "metadata": {},
   "outputs": [],
   "source": [
    "# path to test velocity file\n",
    "#  - this file comes with the distribution so there is no need to change this path\n",
    "vp_file = \"../TEST_DATA/HUDSON_BAY/Vs/RECEIVER_FUNCTION/DATA/AKVQ.dat\"\n",
    "\n",
    "# load a profile into the Convert class -- note this time we are labellig the profile_type \"Vs\"\n",
    "profile = smd.Convert(vp_file, profile_type = \"Vs\", region_name = \"EUROPE\")"
   ]
  },
  {
   "cell_type": "markdown",
   "id": "4eaf759c-f2ab-40f1-b61a-c5f1c4dcc6dc",
   "metadata": {},
   "source": [
    "### Read data\n",
    "\n",
    "Now read the data in the velocity profile file."
   ]
  },
  {
   "cell_type": "code",
   "execution_count": 7,
   "id": "e5315dae-c192-4f1f-a66e-41995702fd9b",
   "metadata": {},
   "outputs": [
    {
     "data": {
      "text/plain": [
       "{'station': 'AKVQ',\n",
       " 'Vs_file': '../TEST_DATA/HUDSON_BAY/Vs/RECEIVER_FUNCTION/DATA/AKVQ.dat',\n",
       " 'region': 'EUROPE',\n",
       " 'moho': 50.0,\n",
       " 'location': array([-78.19122,  60.80801]),\n",
       " 'av_Vs': 3.8527913276200003,\n",
       " 'Vs': array([[  0.     ,   3.2889 ],\n",
       "        [ -2.     ,   3.2889 ],\n",
       "        [ -2.00001,   3.4309 ],\n",
       "        [ -4.     ,   3.4309 ],\n",
       "        [ -4.00001,   3.5616 ],\n",
       "        [ -6.     ,   3.5616 ],\n",
       "        [ -6.00001,   3.6108 ],\n",
       "        [ -8.     ,   3.6108 ],\n",
       "        [ -8.00001,   3.6127 ],\n",
       "        [-10.     ,   3.6127 ],\n",
       "        [-10.01   ,   3.5811 ],\n",
       "        [-12.     ,   3.5811 ],\n",
       "        [-12.01   ,   3.5642 ],\n",
       "        [-14.     ,   3.5642 ],\n",
       "        [-14.01   ,   3.6001 ],\n",
       "        [-16.     ,   3.6001 ],\n",
       "        [-16.01   ,   3.6077 ],\n",
       "        [-18.     ,   3.6077 ],\n",
       "        [-18.01   ,   3.6692 ],\n",
       "        [-20.     ,   3.6692 ],\n",
       "        [-20.01   ,   3.7347 ],\n",
       "        [-22.     ,   3.7347 ],\n",
       "        [-22.01   ,   3.7637 ],\n",
       "        [-24.     ,   3.7637 ],\n",
       "        [-24.01   ,   3.7993 ],\n",
       "        [-26.     ,   3.7993 ],\n",
       "        [-26.01   ,   3.8926 ],\n",
       "        [-28.     ,   3.8926 ],\n",
       "        [-28.01   ,   3.9234 ],\n",
       "        [-30.     ,   3.9234 ],\n",
       "        [-30.01   ,   3.9869 ],\n",
       "        [-32.     ,   3.9869 ],\n",
       "        [-32.01   ,   4.0163 ],\n",
       "        [-34.     ,   4.0163 ],\n",
       "        [-34.01   ,   4.0933 ],\n",
       "        [-36.     ,   4.0933 ],\n",
       "        [-36.01   ,   4.1057 ],\n",
       "        [-38.     ,   4.1057 ],\n",
       "        [-38.01   ,   4.0571 ],\n",
       "        [-40.     ,   4.0571 ],\n",
       "        [-40.01   ,   4.1128 ],\n",
       "        [-42.     ,   4.1128 ],\n",
       "        [-42.01   ,   4.2452 ],\n",
       "        [-44.     ,   4.2452 ],\n",
       "        [-44.01   ,   4.338  ],\n",
       "        [-46.     ,   4.338  ],\n",
       "        [-46.01   ,   4.3464 ],\n",
       "        [-48.     ,   4.3464 ],\n",
       "        [-48.01   ,   4.3791 ],\n",
       "        [-50.     ,   4.3791 ]]),\n",
       " 'type': 'Vs',\n",
       " 'method': 'RECEIVER_FUNCTION'}"
      ]
     },
     "execution_count": 7,
     "metadata": {},
     "output_type": "execute_result"
    }
   ],
   "source": [
    "# read data\n",
    "profile.read_data()\n",
    "\n",
    "# print data dictionary\n",
    "profile.data"
   ]
  },
  {
   "cell_type": "markdown",
   "id": "e989f290-f739-48a1-82eb-473264c4598f",
   "metadata": {},
   "source": [
    "smd.Convert?"
   ]
  }
 ],
 "metadata": {
  "kernelspec": {
   "display_name": "Python 3 (ipykernel)",
   "language": "python",
   "name": "python3"
  },
  "language_info": {
   "codemirror_mode": {
    "name": "ipython",
    "version": 3
   },
   "file_extension": ".py",
   "mimetype": "text/x-python",
   "name": "python",
   "nbconvert_exporter": "python",
   "pygments_lexer": "ipython3",
   "version": "3.11.5"
  }
 },
 "nbformat": 4,
 "nbformat_minor": 5
}
