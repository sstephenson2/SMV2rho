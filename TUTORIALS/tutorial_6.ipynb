{
 "cells": [
  {
   "cell_type": "markdown",
   "id": "a85d2315-3ab4-4ca9-8a8d-2cb2ed20e263",
   "metadata": {},
   "source": [
    "# SMV2rho: Tutorial 6\n",
    "\n",
    "In this tutorial we will propagate uncertainties through the density conversion scheme.\n",
    "\n",
    "Let's import the appropriate functions and get started."
   ]
  },
  {
   "cell_type": "code",
   "execution_count": 1,
   "id": "fd101705-bf3e-4e64-9e4f-1085402e30dd",
   "metadata": {},
   "outputs": [
    {
     "name": "stdout",
     "output_type": "stream",
     "text": [
      "Intel MKL WARNING: Support of Intel(R) Streaming SIMD Extensions 4.2 (Intel(R) SSE4.2) enabled only processors has been deprecated. Intel oneAPI Math Kernel Library 2025.0 will require Intel(R) Advanced Vector Extensions (Intel(R) AVX) instructions.\n",
      "Intel MKL WARNING: Support of Intel(R) Streaming SIMD Extensions 4.2 (Intel(R) SSE4.2) enabled only processors has been deprecated. Intel oneAPI Math Kernel Library 2025.0 will require Intel(R) Advanced Vector Extensions (Intel(R) AVX) instructions.\n"
     ]
    }
   ],
   "source": [
    "# import modules\n",
    "import numpy as np\n",
    "from SMV2rho import plotting as smplt\n",
    "from SMV2rho import density_functions as smd\n",
    "from SMV2rho import uncertainties as unc\n",
    "from SMV2rho import constants as c"
   ]
  },
  {
   "cell_type": "code",
   "execution_count": 2,
   "id": "9daea182-dab4-4c71-9924-0c4965293bae",
   "metadata": {},
   "outputs": [],
   "source": [
    "# import velocity to surface density parameter data\n",
    "parameters = np.loadtxt(\"../PARAMETER_FILES/Vp_parameters.dat\")\n",
    "# load parameters for temperature dependence\n",
    "# T parameters file has following structure...\n",
    "#   [dVpdT, dVsdT, alpha0, alpha1, K]\n",
    "T_parameters_all = np.loadtxt(\"../PARAMETER_FILES/T_parameters.dat\")\n",
    "Vp_T_parameters = T_parameters_all[0], T_parameters_all[2], T_parameters_all[3], T_parameters_all[4]"
   ]
  },
  {
   "cell_type": "markdown",
   "id": "b9be8806-c84f-48e8-808a-ca8f1ad400bc",
   "metadata": {},
   "source": [
    "## Set variables\n",
    "\n",
    "Note that we don't need a velocity profile file to estimate uncertainties as we use bulk density and the uncertainty parameters are independent of the actual velocity profile.  For the parameter definitions please see Stephenson et al (_in review_).  The poarameters with the prefix `d` represent standard deviations in parameter values.\n",
    "\n",
    "Uncertainty propagation currently only supports continental geotherms defined by surface and moho heat flux.  Other options for alternative geotherm definitions will be implemented later.\n"
   ]
  },
  {
   "cell_type": "code",
   "execution_count": 3,
   "id": "cf441dab-25e3-4bb5-977b-3b847805f158",
   "metadata": {},
   "outputs": [],
   "source": [
    "# heatflow parameter values\n",
    "q0 = 59e-3\n",
    "qm = 30e-3\n",
    "hr = 10\n",
    "\n",
    "# heatflow parameter uncertainties\n",
    "dq0 = 14e-3\n",
    "dqm = 10e-3\n",
    "dhr = 5\n",
    "ddvdT = 1e-4\n",
    "\n",
    "# thermal expansion and bulk modulus uncertainties (CRUST)\n",
    "dalpha0 = 0.5e-5\n",
    "dalpha1 = 0.5e-8\n",
    "dK = 20e9\n",
    "\n",
    "# error in density conversion calculation\n",
    "dens_conv_err = 0.11\n",
    "\n",
    "# example crustal thickness and density\n",
    "tc = 45\n",
    "rho_c = 2.9\n",
    "\n",
    "# pack parameter uncertainties into a dictionary\n",
    "parameter_uncertainties = {\n",
    "    'dq0': dq0, 'dqm': dqm, 'dhr': dhr, 'ddvdT': ddvdT,\n",
    "    'dalpha0': dalpha0, 'dalpha1': dalpha1, 'dK': dK}\n",
    "\n",
    "# pack geotherm parameters\n",
    "geotherm_parameters = {\n",
    "    'q0': q0, 'qm': qm, 'hr': hr}"
   ]
  },
  {
   "cell_type": "markdown",
   "id": "fc69468d-3342-4c1a-9b1f-8e362f454ad9",
   "metadata": {},
   "source": [
    "## Outputs and plotting\n",
    "\n",
    "We can now run the uncertainty propagation with the option `make_plots = True` and inspect the outputs below...\n",
    "\n",
    "The plots show the mean value of the errors and corrections.\n",
    "\n",
    "In the first two plots, we are looking at the magnitude of the correction that must be applied to the $\\rho_\\circ$ value obtained from the pressure-dependent densityb conversion.  This correction accounts for the temperature dependent reduction in $v$ given a range of geothermal gradients, and the uncertainty in the $m$ parameter.  The first panel shows the mean absolute value of the corerection by summing errors in $\\rho$.  The second panel shows the mean value of the correction and error by propagating fractional errors in $\\rho$.  The second panel is the preferred approach.\n",
    "\n",
    "The third panel shows uncertainties in geothermal gradient calculated by randomly sampling the parameters defining the geotherm.  Note again that we only currently support one method of calculating the geotherm (see Stephenson et al, _in review_).  This will be improved in later releases.\n",
    "\n",
    "Other panels show the mean value of corrections applied as a result of compression and thermal expansion and their uncertainties, both by summing errors and by calculating and multiplying fractional uncertainties.\n",
    "\n",
    "The final panel shows the error in $\\rho_\\circ$ arising from uncertainty in both the geothermal gradient and the uncertainty in $m$."
   ]
  },
  {
   "cell_type": "code",
   "execution_count": 4,
   "id": "fbfb2c88-a30e-4bf4-8fbe-19475e79a033",
   "metadata": {},
   "outputs": [
    {
     "ename": "AttributeError",
     "evalue": "'tuple' object has no attribute 'm'",
     "output_type": "error",
     "traceback": [
      "\u001b[0;31m---------------------------------------------------------------------------\u001b[0m",
      "\u001b[0;31mAttributeError\u001b[0m                            Traceback (most recent call last)",
      "Cell \u001b[0;32mIn[4], line 1\u001b[0m\n\u001b[0;32m----> 1\u001b[0m sigma \u001b[38;5;241m=\u001b[39m \u001b[43munc\u001b[49m\u001b[38;5;241;43m.\u001b[39;49m\u001b[43mrho_err\u001b[49m\u001b[43m(\u001b[49m\u001b[43mtc\u001b[49m\u001b[43m,\u001b[49m\u001b[43m \u001b[49m\u001b[43mrho_c\u001b[49m\u001b[43m,\u001b[49m\u001b[43m \u001b[49m\u001b[43mparameters\u001b[49m\u001b[43m,\u001b[49m\u001b[43m \u001b[49m\n\u001b[1;32m      2\u001b[0m \u001b[43m            \u001b[49m\u001b[43mVp_T_parameters\u001b[49m\u001b[43m,\u001b[49m\u001b[43m \u001b[49m\u001b[43mgeotherm_parameters\u001b[49m\u001b[43m,\u001b[49m\n\u001b[1;32m      3\u001b[0m \u001b[43m            \u001b[49m\u001b[43mparameter_uncertainties\u001b[49m\u001b[43m,\u001b[49m\n\u001b[1;32m      4\u001b[0m \u001b[43m            \u001b[49m\u001b[43mN\u001b[49m\u001b[38;5;241;43m=\u001b[39;49m\u001b[38;5;241;43m1000\u001b[39;49m\u001b[43m,\u001b[49m\u001b[43m \u001b[49m\u001b[43mz_slices\u001b[49m\u001b[38;5;241;43m=\u001b[39;49m\u001b[38;5;241;43m50\u001b[39;49m\u001b[43m,\u001b[49m\u001b[43m \u001b[49m\n\u001b[1;32m      5\u001b[0m \u001b[43m            \u001b[49m\u001b[43mmake_plots\u001b[49m\u001b[38;5;241;43m=\u001b[39;49m\u001b[38;5;28;43;01mTrue\u001b[39;49;00m\u001b[43m,\u001b[49m\n\u001b[1;32m      6\u001b[0m \u001b[43m            \u001b[49m\u001b[43msave_plots\u001b[49m\u001b[38;5;241;43m=\u001b[39;49m\u001b[38;5;28;43;01mFalse\u001b[39;49;00m\u001b[43m)\u001b[49m\n",
      "File \u001b[0;32m~/Work/SMV2rho/src/SMV2rho/uncertainties.py:73\u001b[0m, in \u001b[0;36mrho_err\u001b[0;34m(z, bulk_rho, v2rhoparameters, material_parameters, geotherm_parameters, parameter_uncertainties, N, z_slices, make_plots, save_plots, outpath)\u001b[0m\n\u001b[1;32m     30\u001b[0m \u001b[38;5;250m\u001b[39m\u001b[38;5;124;03m\"\"\"\u001b[39;00m\n\u001b[1;32m     31\u001b[0m \u001b[38;5;124;03mCalculate crustal density uncertainty by Monte Carlo sampling of \u001b[39;00m\n\u001b[1;32m     32\u001b[0m \u001b[38;5;124;03mthermal and compressibility parameters. Returns drho(z) for mean \u001b[39;00m\n\u001b[0;32m   (...)\u001b[0m\n\u001b[1;32m     69\u001b[0m \u001b[38;5;124;03m    average absolute error in density.\u001b[39;00m\n\u001b[1;32m     70\u001b[0m \u001b[38;5;124;03m\"\"\"\u001b[39;00m\n\u001b[1;32m     72\u001b[0m \u001b[38;5;66;03m# unpack temperatre dependence parameters\u001b[39;00m\n\u001b[0;32m---> 73\u001b[0m dvdT, alpha0, alpha1, K \u001b[38;5;241m=\u001b[39m (\u001b[43mmaterial_parameters\u001b[49m\u001b[38;5;241;43m.\u001b[39;49m\u001b[43mm\u001b[49m, material_parameters[\u001b[38;5;241m1\u001b[39m],\n\u001b[1;32m     74\u001b[0m                            material_parameters[\u001b[38;5;241m2\u001b[39m], material_parameters[\u001b[38;5;241m3\u001b[39m])\n\u001b[1;32m     75\u001b[0m \u001b[38;5;66;03m# unpack geotherm parameters\u001b[39;00m\n\u001b[1;32m     76\u001b[0m q0, qm, hr \u001b[38;5;241m=\u001b[39m (geotherm_parameters[\u001b[38;5;124m'\u001b[39m\u001b[38;5;124mq0\u001b[39m\u001b[38;5;124m'\u001b[39m], geotherm_parameters[\u001b[38;5;124m'\u001b[39m\u001b[38;5;124mqm\u001b[39m\u001b[38;5;124m'\u001b[39m],\n\u001b[1;32m     77\u001b[0m               geotherm_parameters[\u001b[38;5;124m'\u001b[39m\u001b[38;5;124mhr\u001b[39m\u001b[38;5;124m'\u001b[39m])\n",
      "\u001b[0;31mAttributeError\u001b[0m: 'tuple' object has no attribute 'm'"
     ]
    }
   ],
   "source": [
    "sigma = unc.rho_err(tc, rho_c, parameters, \n",
    "            Vp_T_parameters, geotherm_parameters,\n",
    "            parameter_uncertainties,\n",
    "            N=1000, z_slices=50, \n",
    "            make_plots=True,\n",
    "            save_plots=False)"
   ]
  },
  {
   "cell_type": "markdown",
   "id": "bbaf8425-d741-405c-9e51-0dc4cc36e72c",
   "metadata": {},
   "source": [
    "## Bulk crustal uncertainty\n",
    "\n",
    "We can now see the estimate of bulk crustal density uncertainty arising from these uncertainty values.  Again, we can see the error by propagating fractional errors, or by summing errors.  We can see that the result is not hugely different.\n",
    "Note that we must multiply by the error in the pressure-dependent velocity-to-density conversion in order to see the total uncertainty in density.  The error in velocity-to-density conversion dominates the combined error."
   ]
  },
  {
   "cell_type": "code",
   "execution_count": 24,
   "id": "bea3a574-30fa-45d9-9551-1f73a74bf43a",
   "metadata": {},
   "outputs": [
    {
     "name": "stdout",
     "output_type": "stream",
     "text": [
      "Absolute bulk density error = 0.11402778451118648\n"
     ]
    }
   ],
   "source": [
    "print(f\"Absolute bulk density error = {np.sqrt(sigma[0]**2 + dens_conv_err**2)}\")"
   ]
  },
  {
   "cell_type": "code",
   "execution_count": null,
   "id": "4e2d0fbd-506e-4788-8f13-59af62c39627",
   "metadata": {},
   "outputs": [],
   "source": []
  }
 ],
 "metadata": {
  "kernelspec": {
   "display_name": "Python 3 (ipykernel)",
   "language": "python",
   "name": "python3"
  },
  "language_info": {
   "codemirror_mode": {
    "name": "ipython",
    "version": 3
   },
   "file_extension": ".py",
   "mimetype": "text/x-python",
   "name": "python",
   "nbconvert_exporter": "python",
   "pygments_lexer": "ipython3",
   "version": "3.11.5"
  }
 },
 "nbformat": 4,
 "nbformat_minor": 5
}
