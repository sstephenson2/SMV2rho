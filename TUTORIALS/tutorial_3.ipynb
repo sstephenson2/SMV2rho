{
 "cells": [
  {
   "cell_type": "markdown",
   "id": "84c87079-f27b-4458-ba34-e2192d9e0977",
   "metadata": {},
   "source": [
    "# SMV2rho: Tutorial 3\n",
    "\n",
    "In this tutorial we will convert a Vs profile to density using Brocher's (2005) approach.\n",
    "\n",
    "First let's import the required modules from `SMV2rho`."
   ]
  },
  {
   "cell_type": "code",
   "execution_count": 1,
   "id": "9e4e0224-cf2b-4d5d-b98a-7f963a331fcc",
   "metadata": {},
   "outputs": [
    {
     "name": "stdout",
     "output_type": "stream",
     "text": [
      "Intel MKL WARNING: Support of Intel(R) Streaming SIMD Extensions 4.2 (Intel(R) SSE4.2) enabled only processors has been deprecated. Intel oneAPI Math Kernel Library 2025.0 will require Intel(R) Advanced Vector Extensions (Intel(R) AVX) instructions.\n",
      "Intel MKL WARNING: Support of Intel(R) Streaming SIMD Extensions 4.2 (Intel(R) SSE4.2) enabled only processors has been deprecated. Intel oneAPI Math Kernel Library 2025.0 will require Intel(R) Advanced Vector Extensions (Intel(R) AVX) instructions.\n"
     ]
    }
   ],
   "source": [
    "# import modules\n",
    "from SMV2rho import plotting as smplt\n",
    "from SMV2rho import density_functions as smd"
   ]
  },
  {
   "cell_type": "markdown",
   "id": "16f943dc-816b-4556-8537-3b158f40058d",
   "metadata": {},
   "source": [
    "## Class approach\n",
    "### Load file\n",
    "\n",
    "We can load in the test Vp velocity profile.  We will use the `profile_type` variable to label the profile \"Vs\".  We will tell the program that the profile is in the Europe region.  Note that if this is not set, then the region will be set to either \"None\" or will be picked up from the file string.  It can only be picked up automatically from the file string if the correct file structure is being used!"
   ]
  },
  {
   "cell_type": "code",
   "execution_count": 2,
   "id": "2f8d12f6-9c29-4510-bcf6-6c61a630c0a9",
   "metadata": {},
   "outputs": [],
   "source": [
    "# path to test velocity file\n",
    "#  - this file comes with the distribution so there is no need to change this path\n",
    "vp_file = \"../TEST_DATA/HUDSON_BAY/Vs/RECEIVER_FUNCTION/DATA/AKVQ.dat\"\n",
    "\n",
    "# load a profile into the Convert class -- note this time we are labellig the profile_type \"Vs\"\n",
    "profile = smd.Convert(vp_file, profile_type = \"Vs\", region_name = \"EUROPE\")"
   ]
  },
  {
   "cell_type": "markdown",
   "id": "4eaf759c-f2ab-40f1-b61a-c5f1c4dcc6dc",
   "metadata": {},
   "source": [
    "### Read data\n",
    "\n",
    "Now read the data in the velocity profile file."
   ]
  },
  {
   "cell_type": "code",
   "execution_count": 3,
   "id": "e5315dae-c192-4f1f-a66e-41995702fd9b",
   "metadata": {},
   "outputs": [
    {
     "data": {
      "text/plain": [
       "{'station': 'AKVQ',\n",
       " 'Vs_file': '../TEST_DATA/HUDSON_BAY/Vs/RECEIVER_FUNCTION/DATA/AKVQ.dat',\n",
       " 'region': 'EUROPE',\n",
       " 'moho': 50.0,\n",
       " 'location': array([-78.19122,  60.80801]),\n",
       " 'av_Vs': 3.8527913276200003,\n",
       " 'Vs': array([[  0.     ,   3.2889 ],\n",
       "        [ -2.     ,   3.2889 ],\n",
       "        [ -2.00001,   3.4309 ],\n",
       "        [ -4.     ,   3.4309 ],\n",
       "        [ -4.00001,   3.5616 ],\n",
       "        [ -6.     ,   3.5616 ],\n",
       "        [ -6.00001,   3.6108 ],\n",
       "        [ -8.     ,   3.6108 ],\n",
       "        [ -8.00001,   3.6127 ],\n",
       "        [-10.     ,   3.6127 ],\n",
       "        [-10.01   ,   3.5811 ],\n",
       "        [-12.     ,   3.5811 ],\n",
       "        [-12.01   ,   3.5642 ],\n",
       "        [-14.     ,   3.5642 ],\n",
       "        [-14.01   ,   3.6001 ],\n",
       "        [-16.     ,   3.6001 ],\n",
       "        [-16.01   ,   3.6077 ],\n",
       "        [-18.     ,   3.6077 ],\n",
       "        [-18.01   ,   3.6692 ],\n",
       "        [-20.     ,   3.6692 ],\n",
       "        [-20.01   ,   3.7347 ],\n",
       "        [-22.     ,   3.7347 ],\n",
       "        [-22.01   ,   3.7637 ],\n",
       "        [-24.     ,   3.7637 ],\n",
       "        [-24.01   ,   3.7993 ],\n",
       "        [-26.     ,   3.7993 ],\n",
       "        [-26.01   ,   3.8926 ],\n",
       "        [-28.     ,   3.8926 ],\n",
       "        [-28.01   ,   3.9234 ],\n",
       "        [-30.     ,   3.9234 ],\n",
       "        [-30.01   ,   3.9869 ],\n",
       "        [-32.     ,   3.9869 ],\n",
       "        [-32.01   ,   4.0163 ],\n",
       "        [-34.     ,   4.0163 ],\n",
       "        [-34.01   ,   4.0933 ],\n",
       "        [-36.     ,   4.0933 ],\n",
       "        [-36.01   ,   4.1057 ],\n",
       "        [-38.     ,   4.1057 ],\n",
       "        [-38.01   ,   4.0571 ],\n",
       "        [-40.     ,   4.0571 ],\n",
       "        [-40.01   ,   4.1128 ],\n",
       "        [-42.     ,   4.1128 ],\n",
       "        [-42.01   ,   4.2452 ],\n",
       "        [-44.     ,   4.2452 ],\n",
       "        [-44.01   ,   4.338  ],\n",
       "        [-46.     ,   4.338  ],\n",
       "        [-46.01   ,   4.3464 ],\n",
       "        [-48.     ,   4.3464 ],\n",
       "        [-48.01   ,   4.3791 ],\n",
       "        [-50.     ,   4.3791 ]]),\n",
       " 'type': 'Vs',\n",
       " 'method': 'RECEIVER_FUNCTION'}"
      ]
     },
     "execution_count": 3,
     "metadata": {},
     "output_type": "execute_result"
    }
   ],
   "source": [
    "# read data\n",
    "profile.read_data()\n",
    "\n",
    "# print data dictionary\n",
    "profile.data"
   ]
  },
  {
   "cell_type": "code",
   "execution_count": 4,
   "id": "8b1e12db-ebec-48da-a084-d55fb66c8ee2",
   "metadata": {},
   "outputs": [
    {
     "name": "stdout",
     "output_type": "stream",
     "text": [
      "You haven't created a Vp array yet! Convert Vs to Vp first!\n"
     ]
    },
    {
     "ename": "KeyError",
     "evalue": "'Vp_calc'",
     "output_type": "error",
     "traceback": [
      "\u001b[0;31m---------------------------------------------------------------------------\u001b[0m",
      "\u001b[0;31mKeyError\u001b[0m                                  Traceback (most recent call last)",
      "Cell \u001b[0;32mIn[4], line 1\u001b[0m\n\u001b[0;32m----> 1\u001b[0m \u001b[43mprofile\u001b[49m\u001b[38;5;241;43m.\u001b[39;49m\u001b[43mVp_to_density_brocher\u001b[49m\u001b[43m(\u001b[49m\u001b[43m)\u001b[49m\n",
      "File \u001b[0;32m~/Work/SMV2rho/src/SMV2rho/density_functions.py:396\u001b[0m, in \u001b[0;36mConvert.Vp_to_density_brocher\u001b[0;34m(self)\u001b[0m\n\u001b[1;32m    393\u001b[0m     \u001b[38;5;28;01mexcept\u001b[39;00m \u001b[38;5;167;01mKeyError\u001b[39;00m:\n\u001b[1;32m    394\u001b[0m         \u001b[38;5;28mprint\u001b[39m(\u001b[38;5;124m\"\u001b[39m\u001b[38;5;124mYou haven\u001b[39m\u001b[38;5;124m'\u001b[39m\u001b[38;5;124mt created a Vp array yet! \u001b[39m\u001b[38;5;124m\"\u001b[39m\n\u001b[1;32m    395\u001b[0m               \u001b[38;5;124m\"\u001b[39m\u001b[38;5;124mConvert Vs to Vp first!\u001b[39m\u001b[38;5;124m\"\u001b[39m)\n\u001b[0;32m--> 396\u001b[0m     rho \u001b[38;5;241m=\u001b[39m np\u001b[38;5;241m.\u001b[39mcolumn_stack((\u001b[38;5;28;43mself\u001b[39;49m\u001b[38;5;241;43m.\u001b[39;49m\u001b[43mdata\u001b[49m\u001b[43m[\u001b[49m\u001b[38;5;124;43m\"\u001b[39;49m\u001b[38;5;124;43mVp_calc\u001b[39;49m\u001b[38;5;124;43m\"\u001b[39;49m\u001b[43m]\u001b[49m[:,\u001b[38;5;241m0\u001b[39m], \n\u001b[1;32m    397\u001b[0m                            Vp2rho_brocher(\u001b[38;5;28mself\u001b[39m\u001b[38;5;241m.\u001b[39mdata[\u001b[38;5;124m\"\u001b[39m\u001b[38;5;124mVp_calc\u001b[39m\u001b[38;5;124m\"\u001b[39m][:,\u001b[38;5;241m1\u001b[39m])))\n\u001b[1;32m    398\u001b[0m \u001b[38;5;66;03m# add Vs profile, average Vs and Vp/Vs ratio to dictionary\u001b[39;00m\n\u001b[1;32m    399\u001b[0m av_rho \u001b[38;5;241m=\u001b[39m integrate\u001b[38;5;241m.\u001b[39mtrapz(\u001b[38;5;241m-\u001b[39mrho[:,\u001b[38;5;241m1\u001b[39m], rho[:,\u001b[38;5;241m0\u001b[39m]) \u001b[38;5;241m/\u001b[39m \u001b[38;5;28mself\u001b[39m\u001b[38;5;241m.\u001b[39mdata[\u001b[38;5;124m\"\u001b[39m\u001b[38;5;124mmoho\u001b[39m\u001b[38;5;124m\"\u001b[39m]\n",
      "\u001b[0;31mKeyError\u001b[0m: 'Vp_calc'"
     ]
    }
   ],
   "source": [
    "profile.Vp_to_density_brocher()"
   ]
  },
  {
   "cell_type": "code",
   "execution_count": null,
   "id": "3461daa8-0079-49c0-a8d4-093cc6f6efd6",
   "metadata": {},
   "outputs": [],
   "source": []
  }
 ],
 "metadata": {
  "kernelspec": {
   "display_name": "Python 3 (ipykernel)",
   "language": "python",
   "name": "python3"
  },
  "language_info": {
   "codemirror_mode": {
    "name": "ipython",
    "version": 3
   },
   "file_extension": ".py",
   "mimetype": "text/x-python",
   "name": "python",
   "nbconvert_exporter": "python",
   "pygments_lexer": "ipython3",
   "version": "3.11.5"
  }
 },
 "nbformat": 4,
 "nbformat_minor": 5
}
