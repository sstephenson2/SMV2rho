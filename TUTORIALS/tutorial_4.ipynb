{
 "cells": [
  {
   "cell_type": "markdown",
   "id": "b5848a4d-9f24-4eae-aefc-9da9e4776bdb",
   "metadata": {},
   "source": [
    "# SMV2rho: Tutorial 4\n",
    "\n",
    "In this tutorial we will convert from velocity to density using the new `SMV2rho` approach, which is outlined in Stephenson et al (_in review_)"
   ]
  },
  {
   "cell_type": "code",
   "execution_count": null,
   "id": "c4f8d2ad-4d50-4117-a27e-5a6ca8977394",
   "metadata": {},
   "outputs": [],
   "source": []
  }
 ],
 "metadata": {
  "kernelspec": {
   "display_name": "Python 3 (ipykernel)",
   "language": "python",
   "name": "python3"
  },
  "language_info": {
   "codemirror_mode": {
    "name": "ipython",
    "version": 3
   },
   "file_extension": ".py",
   "mimetype": "text/x-python",
   "name": "python",
   "nbconvert_exporter": "python",
   "pygments_lexer": "ipython3",
   "version": "3.11.5"
  }
 },
 "nbformat": 4,
 "nbformat_minor": 5
}
