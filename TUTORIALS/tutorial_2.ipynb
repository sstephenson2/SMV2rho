{
 "cells": [
  {
   "cell_type": "markdown",
   "id": "b503185f-de0f-40f1-96cb-37afc4c1d3b6",
   "metadata": {},
   "source": [
    "# SMV2rho: Tutorial 2\n",
    "\n",
    "In this tutorial we will see how we can convert a velocity profile to density using Brocher's (2005) approach.\n",
    "\n",
    "We will try out two ways of doing this.  First, we will use the class construct that we developed in `tutorial_1`, and secondly we will use a function for those users who aren't perhaps as comfortable using classes.\n",
    "\n",
    "First let's import the required modules from `SMV2rho`."
   ]
  },
  {
   "cell_type": "code",
   "execution_count": 6,
   "id": "6a2f2c47",
   "metadata": {},
   "outputs": [],
   "source": [
    "# import modules\n",
    "from SMV2rho import plotting as smplt\n",
    "from SMV2rho import density_functions as smd"
   ]
  },
  {
   "cell_type": "markdown",
   "id": "2f27074f-c734-4b12-8ada-1c6897ff9d64",
   "metadata": {},
   "source": [
    "## Class approach\n",
    "### Load file\n",
    "\n",
    "We can load in the test Vp velocity profile.  Since we are using the default filw structure, we won't specify `seismic_method_name` or `region_name` this time."
   ]
  },
  {
   "cell_type": "code",
   "execution_count": 7,
   "id": "469c9d41-8746-47f0-9df8-372d8f5338f0",
   "metadata": {},
   "outputs": [],
   "source": [
    "# path to test velocity file\n",
    "#  - this file comes with the distribution so there is no need to change this path\n",
    "vp_file = \"../TEST_DATA/EUROPE/Vp/RECEIVER_FUNCTION/DATA/M19_AQU_Vp.dat\"\n",
    "\n",
    "# load a profile into the Convert class\n",
    "profile = smd.Convert(vp_file, profile_type = \"Vp\")"
   ]
  },
  {
   "cell_type": "markdown",
   "id": "0a3c941c-9a65-4f73-9ae5-47bf2650e973",
   "metadata": {},
   "source": [
    "### Read data\n",
    "\n",
    "Now read the data in the velocity profile file."
   ]
  },
  {
   "cell_type": "code",
   "execution_count": 8,
   "id": "e3fede33",
   "metadata": {},
   "outputs": [],
   "source": [
    "# read data\n",
    "profile.read_data()"
   ]
  },
  {
   "cell_type": "markdown",
   "id": "852d12fe-bf0c-43fb-8917-27bad23a6a33",
   "metadata": {},
   "source": [
    "### Convert profile\n",
    "\n",
    "Now we can convert the profile using the `Vp_to_density_brocher` method and inspect the dupdated data dictionary."
   ]
  },
  {
   "cell_type": "code",
   "execution_count": 9,
   "id": "7bcf3128-7c55-4279-a4f9-7fc47d296d0b",
   "metadata": {},
   "outputs": [
    {
     "data": {
      "text/plain": [
       "{'station': 'M19_AQU_Vp',\n",
       " 'Vp_file': '../TEST_DATA/EUROPE/Vp/RECEIVER_FUNCTION/DATA/M19_AQU_Vp.dat',\n",
       " 'region': None,\n",
       " 'moho': 37.2,\n",
       " 'location': array([13.48, 42.34]),\n",
       " 'av_Vp': 6.617358544354839,\n",
       " 'Vp': array([[  0.     ,   4.84865],\n",
       "        [ -2.5    ,   4.84865],\n",
       "        [ -2.51   ,   7.23144],\n",
       "        [-16.2    ,   7.23144],\n",
       "        [-16.21   ,   6.42768],\n",
       "        [-37.2    ,   6.42768]]),\n",
       " 'type': 'Vp',\n",
       " 'method': 'EUROPE',\n",
       " 'rho': array([[  0.        ,   2.5119241 ],\n",
       "        [ -2.5       ,   2.5119241 ],\n",
       "        [ -2.51      ,   3.03672643],\n",
       "        [-16.2       ,   3.03672643],\n",
       "        [-16.21      ,   2.81506916],\n",
       "        [-37.2       ,   2.81506916]]),\n",
       " 'av_rho': 2.8762876075085257}"
      ]
     },
     "execution_count": 9,
     "metadata": {},
     "output_type": "execute_result"
    }
   ],
   "source": [
    "# xonvert Vp profile using \n",
    "profile.Vp_to_density_brocher()\n",
    "# show data diictionary\n",
    "profile.data"
   ]
  },
  {
   "cell_type": "markdown",
   "id": "401095ef-d55f-474d-bdbd-0151ad8702ae",
   "metadata": {},
   "source": [
    "### Plotting\n",
    "\n",
    "We can now see that the data dictionary has a `'rho'` entry.  We can plot this profile using some of the routines in the `plotting` module."
   ]
  },
  {
   "cell_type": "code",
   "execution_count": 10,
   "id": "ac749bf6-a5a7-4d8e-9a67-3ef72a3f892e",
   "metadata": {},
   "outputs": [
    {
     "data": {
      "image/png": "[encoded data removed]",
      "text/plain": [
       "<Figure size 640x480 with 2 Axes>"
      ]
     },
     "metadata": {},
     "output_type": "display_data"
    }
   ],
   "source": [
    "# organise data for pltting\n",
    "data1 = [{'x': profile.data[\"Vp\"][:,1], \n",
    "          'y': profile.data[\"Vp\"][:,0],\n",
    "          'label': \"Vp\"}]\n",
    "\n",
    "data2 = [{'x': profile.data[\"rho\"][:,1], \n",
    "          'y': profile.data[\"rho\"][:,0],\n",
    "          'label': r'$\\rho$, Brocher (2005)'}]\n",
    "\n",
    "# Call the plot_panels function\n",
    "smplt.plot_panels([data1, data2], plot_type='line', \n",
    "            cmap=None, titles=['Velocity', 'Density'], \n",
    "            xlabels=[r'${V_P}$ (km/s)', r'$\\rho$ (Mg/m${^3}$)'], \n",
    "            ylabels=['Depth (km)', 'Depth (km)'],\n",
    "            z_values=None, figure_scale=0.8, \n",
    "            save_path=None)"
   ]
  },
  {
   "cell_type": "markdown",
   "id": "eeb939da-3498-47a3-8456-8d20b088886d",
   "metadata": {},
   "source": [
    "## Function approach\n",
    "\n",
    "Alternatively, if we prefer to work with functions than classes, then we can convert the velocity profile using a wrapper function.  In this case, everything is calculated and the appropriate classes and functions are called in the backend so that the user doesn't have to run individual methods.  This approach reduces flexibility but makes it possible to convert the profile into density with a one-liner.  \n",
    "\n",
    "First let's take a look at the docstring for the `convert_V_profile` function."
   ]
  },
  {
   "cell_type": "code",
   "execution_count": 11,
   "id": "81a08fa4-155e-4468-aab9-bcabb9e77e53",
   "metadata": {},
   "outputs": [
    {
     "name": "stdout",
     "output_type": "stream",
     "text": [
      "\u001b[0;31mSignature:\u001b[0m\n",
      "\u001b[0msmd\u001b[0m\u001b[0;34m.\u001b[0m\u001b[0mconvert_V_profile\u001b[0m\u001b[0;34m(\u001b[0m\u001b[0;34m\u001b[0m\n",
      "\u001b[0;34m\u001b[0m    \u001b[0mfile\u001b[0m\u001b[0;34m,\u001b[0m\u001b[0;34m\u001b[0m\n",
      "\u001b[0;34m\u001b[0m    \u001b[0mprofile_type\u001b[0m\u001b[0;34m,\u001b[0m\u001b[0;34m\u001b[0m\n",
      "\u001b[0;34m\u001b[0m    \u001b[0mwrite_data\u001b[0m\u001b[0;34m=\u001b[0m\u001b[0;32mFalse\u001b[0m\u001b[0;34m,\u001b[0m\u001b[0;34m\u001b[0m\n",
      "\u001b[0;34m\u001b[0m    \u001b[0mpath\u001b[0m\u001b[0;34m=\u001b[0m\u001b[0;32mNone\u001b[0m\u001b[0;34m,\u001b[0m\u001b[0;34m\u001b[0m\n",
      "\u001b[0;34m\u001b[0m    \u001b[0mapproach\u001b[0m\u001b[0;34m=\u001b[0m\u001b[0;34m'stephenson'\u001b[0m\u001b[0;34m,\u001b[0m\u001b[0;34m\u001b[0m\n",
      "\u001b[0;34m\u001b[0m    \u001b[0mlocation\u001b[0m\u001b[0;34m=\u001b[0m\u001b[0;32mNone\u001b[0m\u001b[0;34m,\u001b[0m\u001b[0;34m\u001b[0m\n",
      "\u001b[0;34m\u001b[0m    \u001b[0mparameters\u001b[0m\u001b[0;34m=\u001b[0m\u001b[0;32mNone\u001b[0m\u001b[0;34m,\u001b[0m\u001b[0;34m\u001b[0m\n",
      "\u001b[0;34m\u001b[0m    \u001b[0mconstant_depth\u001b[0m\u001b[0;34m=\u001b[0m\u001b[0;32mNone\u001b[0m\u001b[0;34m,\u001b[0m\u001b[0;34m\u001b[0m\n",
      "\u001b[0;34m\u001b[0m    \u001b[0mconstant_density\u001b[0m\u001b[0;34m=\u001b[0m\u001b[0;32mNone\u001b[0m\u001b[0;34m,\u001b[0m\u001b[0;34m\u001b[0m\n",
      "\u001b[0;34m\u001b[0m    \u001b[0mT_dependence\u001b[0m\u001b[0;34m=\u001b[0m\u001b[0;32mFalse\u001b[0m\u001b[0;34m,\u001b[0m\u001b[0;34m\u001b[0m\n",
      "\u001b[0;34m\u001b[0m    \u001b[0mworking_file\u001b[0m\u001b[0;34m=\u001b[0m\u001b[0;32mFalse\u001b[0m\u001b[0;34m,\u001b[0m\u001b[0;34m\u001b[0m\n",
      "\u001b[0;34m\u001b[0m\u001b[0;34m)\u001b[0m\u001b[0;34m\u001b[0m\u001b[0;34m\u001b[0m\u001b[0m\n",
      "\u001b[0;31mDocstring:\u001b[0m\n",
      "Convert a single Vp or Vs velocity profile using the chosen scheme.\n",
      "\n",
      "This function takes a velocity profile file and converts it to density values\n",
      "using the specified approach, which can be \"brocher\" or \"stephenson\".\n",
      "\n",
      "Args:\n",
      "    file (str): Path to the input velocity profile file.\n",
      "    profile_type (str): Type of velocity profile, 'Vp' or 'Vs'.\n",
      "    write_data (bool, optional): Write out the converted data to files. \n",
      "        Default is False.\n",
      "    path (str, optional): Location to write out the results. Default \n",
      "        is None.\n",
      "    approach (str, optional): Density conversion scheme to use, \"brocher\" \n",
      "        or \"stephenson\".\n",
      "    location (str, optional): Regional location of the profile. Default \n",
      "        is \"None\".\n",
      "    parameters (np.ndarray, optional): Parameter array if using the \n",
      "        Stephenson scheme for velocity-density conversion.  A single \n",
      "        column (1D) array.  Not Vp and Vs parameters combined.   \n",
      "        Default is None.\n",
      "    constant_depth (float, optional): Depth range for constant density \n",
      "        from the surface. Default is None.\n",
      "    constant_density (float, optional): Constant density value for the \n",
      "        uppermost x kilometers. Default is None.\n",
      "    T_dependence (bool, optional): Correct velocity and density for \n",
      "        temperature and pressure. Default is False.\n",
      "    T_parameters (tuple, optional): Parameters needed to correct for \n",
      "        temperature effects (dV/dT, alpha0, alpha1).  Default is None.\n",
      "    working_file (bool, optional): Print the file that is being converted.\n",
      "        Default is True.\n",
      "\n",
      "Returns:\n",
      "    pd.DataFrame: Pandas DataFrame containing the converted velocity and \n",
      "        density data.\n",
      "\n",
      "Notes:\n",
      "    - The function converts velocity profiles to density profiles using \n",
      "        the specified approach.\n",
      "    - It can write out the converted data to files if 'write_data' is \n",
      "        set to True.\n",
      "\n",
      "Example:\n",
      "    >>> convert_V_profile('velocity_profile.dat', 'Vp', write_data=True,\n",
      "    ...                   path='output/', approach='stephenson',\n",
      "    ...                   location='Region1', parameters=[p1, p2, ...],\n",
      "    ...                   constant_depth=10.0, constant_density=2.7,\n",
      "    ...                   T_dependence=True, \n",
      "    ...                   T_parameters=(0.01, 1.0, 0.002, 0.00001, 90e9))\n",
      "\u001b[0;31mFile:\u001b[0m      ~/Work/SMV2rho/src/SMV2rho/density_functions.py\n",
      "\u001b[0;31mType:\u001b[0m      function"
     ]
    }
   ],
   "source": [
    "smd.convert_V_profile?"
   ]
  },
  {
   "cell_type": "markdown",
   "id": "07f3fb42-10aa-4385-a0ba-f9a05c3b7944",
   "metadata": {},
   "source": [
    "Now we can use it to convert our velocity profile using the Brocher's (2005) approach.  This time, we should see an output string telling us the path to the file that is being converted.  We can also print the output to check that the result is the same as before."
   ]
  },
  {
   "cell_type": "code",
   "execution_count": 12,
   "id": "94b1af36-f2a6-4a43-85bf-ffdf18cd1244",
   "metadata": {},
   "outputs": [
    {
     "name": "stdout",
     "output_type": "stream",
     "text": [
      "working on ../TEST_DATA/EUROPE/Vp/RECEIVER_FUNCTION/DATA/M19_AQU_Vp.dat\n"
     ]
    },
    {
     "data": {
      "text/plain": [
       "{'station': 'M19_AQU_Vp',\n",
       " 'Vp_file': '../TEST_DATA/EUROPE/Vp/RECEIVER_FUNCTION/DATA/M19_AQU_Vp.dat',\n",
       " 'region': None,\n",
       " 'moho': 37.2,\n",
       " 'location': array([13.48, 42.34]),\n",
       " 'av_Vp': 6.617358544354839,\n",
       " 'Vp': array([[  0.     ,   4.84865],\n",
       "        [ -2.5    ,   4.84865],\n",
       "        [ -2.51   ,   7.23144],\n",
       "        [-16.2    ,   7.23144],\n",
       "        [-16.21   ,   6.42768],\n",
       "        [-37.2    ,   6.42768]]),\n",
       " 'type': 'Vp',\n",
       " 'method': 'EUROPE',\n",
       " 'rho': array([[  0.        ,   2.5119241 ],\n",
       "        [ -2.5       ,   2.5119241 ],\n",
       "        [ -2.51      ,   3.03672643],\n",
       "        [-16.2       ,   3.03672643],\n",
       "        [-16.21      ,   2.81506916],\n",
       "        [-37.2       ,   2.81506916]]),\n",
       " 'av_rho': 2.8762876075085257}"
      ]
     },
     "execution_count": 12,
     "metadata": {},
     "output_type": "execute_result"
    }
   ],
   "source": [
    "# call density conversion function\n",
    "# note that using profile_type=\"Vs\" first calls a function to convert to Vp\n",
    "# as is required by Brocher's (2005) approach.\n",
    "profile_brocher = smd.convert_V_profile(vp_file, \n",
    "                            profile_type=\"Vp\", \n",
    "                            approach=\"brocher\",\n",
    "                            working_file = True)\n",
    "\n",
    "# print output dictionary to check values\n",
    "profile_brocher"
   ]
  },
  {
   "cell_type": "markdown",
   "id": "c69ba79d-f16c-49ab-bc4d-a85b5080b51e",
   "metadata": {},
   "source": [
    "### Plotting\n",
    "\n",
    "We can plot up the result to check it is the same as before"
   ]
  },
  {
   "cell_type": "code",
   "execution_count": 13,
   "id": "80e71f1d-3e66-428b-a2f6-d52b7eafd9e5",
   "metadata": {},
   "outputs": [
    {
     "data": {
      "image/png": "[encoded data removed]",
      "text/plain": [
       "<Figure size 640x480 with 2 Axes>"
      ]
     },
     "metadata": {},
     "output_type": "display_data"
    }
   ],
   "source": [
    "# organise data for pltting\n",
    "data1 = [{'x': profile_brocher[\"Vp\"][:,1], \n",
    "          'y': profile_brocher[\"Vp\"][:,0],\n",
    "          'label': \"Vp\"}]\n",
    "\n",
    "data2 = [{'x': profile_brocher[\"rho\"][:,1], \n",
    "          'y': profile_brocher[\"rho\"][:,0],\n",
    "          'label': r'$\\rho$, Brocher (2005)'}]\n",
    "\n",
    "# Call the plot_panels function\n",
    "smplt.plot_panels([data1, data2], plot_type='line', \n",
    "            cmap=None, titles=['Velocity', 'Density'], \n",
    "            xlabels=[r'${V_P}$ (km/s)', r'$\\rho$ (Mg/m${^3}$)'], \n",
    "            ylabels=['Depth (km)', 'Depth (km)'],\n",
    "            z_values=None, figure_scale=0.8, \n",
    "            save_path=None)"
   ]
  },
  {
   "cell_type": "code",
   "execution_count": null,
   "id": "4deb73eb-d39a-4f87-83eb-468d2b2a510d",
   "metadata": {},
   "outputs": [],
   "source": []
  }
 ],
 "metadata": {
  "kernelspec": {
   "display_name": "Python 3 (ipykernel)",
   "language": "python",
   "name": "python3"
  },
  "language_info": {
   "codemirror_mode": {
    "name": "ipython",
    "version": 3
   },
   "file_extension": ".py",
   "mimetype": "text/x-python",
   "name": "python",
   "nbconvert_exporter": "python",
   "pygments_lexer": "ipython3",
   "version": "3.11.5"
  }
 },
 "nbformat": 4,
 "nbformat_minor": 5
}
