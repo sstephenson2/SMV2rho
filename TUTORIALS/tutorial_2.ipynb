{
 "cells": [
  {
   "cell_type": "markdown",
   "id": "b503185f-de0f-40f1-96cb-37afc4c1d3b6",
   "metadata": {},
   "source": [
    "# SMV2rho: Tutorial 2\n",
    "\n",
    "In this tutorial we will see how we can convert a velocity profile to density using Brocher's (2005) approach.\n",
    "\n",
    "We will try out two ways of doing this.  First, we will use the class construct that we developed in `tutorial_1`, and secondly we will use a function for those users who aren't perhaps as comfortable using classes.\n",
    "\n",
    "First let's import the required modules from `SMV2rho`."
   ]
  },
  {
   "cell_type": "code",
   "execution_count": 16,
   "id": "6a2f2c47",
   "metadata": {},
   "outputs": [],
   "source": [
    "# import modules\n",
    "from SMV2rho import plotting as smplt\n",
    "from SMV2rho import density_functions as smd"
   ]
  },
  {
   "cell_type": "markdown",
   "id": "2f27074f-c734-4b12-8ada-1c6897ff9d64",
   "metadata": {},
   "source": [
    "## Class approach\n",
    "### Load file\n",
    "\n",
    "Now we can load in the test Vp velocity profile"
   ]
  },
  {
   "cell_type": "code",
   "execution_count": 17,
   "id": "469c9d41-8746-47f0-9df8-372d8f5338f0",
   "metadata": {},
   "outputs": [],
   "source": [
    "# path to test velocity file\n",
    "#  - this file comes with the distribution so there is no need to change this path\n",
    "vp_file = \"../TEST_DATA/EUROPE/Vp/RECEIVER_FUNCTION/DATA/M19_AQU_Vp.dat\"\n",
    "\n",
    "# load a profile into the Convert class\n",
    "profile = smd.Convert(vp_file, profile_type = \"Vp\")"
   ]
  },
  {
   "cell_type": "markdown",
   "id": "0a3c941c-9a65-4f73-9ae5-47bf2650e973",
   "metadata": {},
   "source": [
    "### Read data\n",
    "\n",
    "Now read the data in the velocity profile file."
   ]
  },
  {
   "cell_type": "code",
   "execution_count": 19,
   "id": "e3fede33",
   "metadata": {},
   "outputs": [],
   "source": [
    "# read data\n",
    "profile.read_data()"
   ]
  },
  {
   "cell_type": "markdown",
   "id": "852d12fe-bf0c-43fb-8917-27bad23a6a33",
   "metadata": {},
   "source": [
    "### Convert profile\n",
    "\n",
    "Now we can convert the profile using the `Vp_to_density_brocher` method and inspect the dupdated data dictionary."
   ]
  },
  {
   "cell_type": "code",
   "execution_count": 26,
   "id": "7bcf3128-7c55-4279-a4f9-7fc47d296d0b",
   "metadata": {},
   "outputs": [
    {
     "data": {
      "text/plain": [
       "{'station': 'M19_AQU_Vp',\n",
       " 'Vp_file': '../TEST_DATA/EUROPE/Vp/RECEIVER_FUNCTION/DATA/M19_AQU_Vp.dat',\n",
       " 'region': None,\n",
       " 'moho': 37.2,\n",
       " 'location': array([13.48, 42.34]),\n",
       " 'av_Vp': 6.617358544354839,\n",
       " 'Vp': array([[  0.     ,   4.84865],\n",
       "        [ -2.5    ,   4.84865],\n",
       "        [ -2.51   ,   7.23144],\n",
       "        [-16.2    ,   7.23144],\n",
       "        [-16.21   ,   6.42768],\n",
       "        [-37.2    ,   6.42768]]),\n",
       " 'type': 'Vp',\n",
       " 'method': 'RECEIVER_FUNCTION',\n",
       " 'rho': array([[  0.        ,   2.5119241 ],\n",
       "        [ -2.5       ,   2.5119241 ],\n",
       "        [ -2.51      ,   3.03672643],\n",
       "        [-16.2       ,   3.03672643],\n",
       "        [-16.21      ,   2.81506916],\n",
       "        [-37.2       ,   2.81506916]]),\n",
       " 'av_rho': 2.8762876075085257}"
      ]
     },
     "execution_count": 26,
     "metadata": {},
     "output_type": "execute_result"
    }
   ],
   "source": [
    "# xonvert Vp profile using \n",
    "profile.Vp_to_density_brocher()\n",
    "# show data diictionary\n",
    "profile.data"
   ]
  },
  {
   "cell_type": "markdown",
   "id": "401095ef-d55f-474d-bdbd-0151ad8702ae",
   "metadata": {},
   "source": [
    "We can now see that the "
   ]
  }
 ],
 "metadata": {
  "kernelspec": {
   "display_name": "Python 3 (ipykernel)",
   "language": "python",
   "name": "python3"
  },
  "language_info": {
   "codemirror_mode": {
    "name": "ipython",
    "version": 3
   },
   "file_extension": ".py",
   "mimetype": "text/x-python",
   "name": "python",
   "nbconvert_exporter": "python",
   "pygments_lexer": "ipython3",
   "version": "3.11.5"
  }
 },
 "nbformat": 4,
 "nbformat_minor": 5
}
