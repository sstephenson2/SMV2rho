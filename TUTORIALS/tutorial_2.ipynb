{
 "cells": [
  {
   "cell_type": "markdown",
   "id": "b503185f-de0f-40f1-96cb-37afc4c1d3b6",
   "metadata": {},
   "source": [
    "# SMV2rho: Tutorial 2\n",
    "\n",
    "In this tutorial we will see how we can convert a velocity profile to density using Brocher's (2005) approach.\n",
    "\n",
    "We will try out two ways of doing this.  First, we will use the class construct that we developed in `tutorial_1`, and secondly we will use a function to provide flexibility for various different uses.\n",
    "\n",
    "First let's import the required modules from `SMV2rho`."
   ]
  },
  {
   "cell_type": "code",
   "execution_count": 2,
   "id": "6a2f2c47",
   "metadata": {},
   "outputs": [],
   "source": [
    "# import modules\n",
    "from SMV2rho import plotting as smplt\n",
    "from SMV2rho import density_functions as smd"
   ]
  },
  {
   "cell_type": "markdown",
   "id": "2f27074f-c734-4b12-8ada-1c6897ff9d64",
   "metadata": {},
   "source": [
    "## Class approach\n",
    "\n",
    "### Load file\n",
    "\n",
    "We can load in the test Vp velocity profile.  Since we are using the default file structure, we won't specify `seismic_method_name` or `region_name` this time."
   ]
  },
  {
   "cell_type": "code",
   "execution_count": 4,
   "id": "469c9d41-8746-47f0-9df8-372d8f5338f0",
   "metadata": {},
   "outputs": [],
   "source": [
    "# path to test velocity file\n",
    "#  - this file comes with the distribution so there is no need to change this path\n",
    "vp_file = \"../TEST_DATA/EUROPE/Vp/RECEIVER_FUNCTION/DATA/M19_AQU_Vp.dat\"\n",
    "\n",
    "# load a profile into the Convert class\n",
    "profile = smd.Convert(vp_file, profile_type = \"Vp\")"
   ]
  },
  {
   "cell_type": "markdown",
   "id": "0a3c941c-9a65-4f73-9ae5-47bf2650e973",
   "metadata": {},
   "source": [
    "### Read data\n",
    "\n",
    "Now read the data in the velocity profile file.\n",
    "\n",
    "We can inspect the data dictionary that has been read from the input file by inspecting the `data` attribute.  Type\n",
    "```\n",
    "profile.data\n",
    "```"
   ]
  },
  {
   "cell_type": "code",
   "execution_count": 7,
   "id": "e3fede33",
   "metadata": {},
   "outputs": [
    {
     "data": {
      "text/plain": [
       "{'station': 'M19_AQU_Vp',\n",
       " 'Vp_file': '../TEST_DATA/EUROPE/Vp/RECEIVER_FUNCTION/DATA/M19_AQU_Vp.dat',\n",
       " 'region': None,\n",
       " 'moho': 37.2,\n",
       " 'location': array([13.48, 42.34]),\n",
       " 'av_Vp': 6.617358544354839,\n",
       " 'Vp': array([[  0.     ,   4.84865],\n",
       "        [ -2.5    ,   4.84865],\n",
       "        [ -2.51   ,   7.23144],\n",
       "        [-16.2    ,   7.23144],\n",
       "        [-16.21   ,   6.42768],\n",
       "        [-37.2    ,   6.42768]]),\n",
       " 'type': 'Vp',\n",
       " 'method': 'EUROPE',\n",
       " 'geotherm': None}"
      ]
     },
     "execution_count": 7,
     "metadata": {},
     "output_type": "execute_result"
    }
   ],
   "source": [
    "# read data\n",
    "profile.read_data()\n",
    "profile.data"
   ]
  },
  {
   "cell_type": "markdown",
   "id": "852d12fe-bf0c-43fb-8917-27bad23a6a33",
   "metadata": {},
   "source": [
    "### Convert profile\n",
    "\n",
    "Now we can convert the profile using the `Vp_to_density_brocher` method and inspect the updated data dictionary.\n",
    "\n",
    "We can inspect the updated data dictionary by inspecting the `data` attribute by typing\n",
    "```\n",
    "profile.data\n",
    "```\n",
    "\n",
    "Notice that the `'rho'` and `'av_rho'` fields have been populated."
   ]
  },
  {
   "cell_type": "code",
   "execution_count": 9,
   "id": "7bcf3128-7c55-4279-a4f9-7fc47d296d0b",
   "metadata": {},
   "outputs": [
    {
     "data": {
      "text/plain": [
       "{'station': 'M19_AQU_Vp',\n",
       " 'Vp_file': '../TEST_DATA/EUROPE/Vp/RECEIVER_FUNCTION/DATA/M19_AQU_Vp.dat',\n",
       " 'region': None,\n",
       " 'moho': 37.2,\n",
       " 'location': array([13.48, 42.34]),\n",
       " 'av_Vp': 6.617358544354839,\n",
       " 'Vp': array([[  0.     ,   4.84865],\n",
       "        [ -2.5    ,   4.84865],\n",
       "        [ -2.51   ,   7.23144],\n",
       "        [-16.2    ,   7.23144],\n",
       "        [-16.21   ,   6.42768],\n",
       "        [-37.2    ,   6.42768]]),\n",
       " 'type': 'Vp',\n",
       " 'method': 'EUROPE',\n",
       " 'geotherm': None,\n",
       " 'rho': array([[  0.        ,   2.5119241 ],\n",
       "        [ -2.5       ,   2.5119241 ],\n",
       "        [ -2.51      ,   3.03672643],\n",
       "        [-16.2       ,   3.03672643],\n",
       "        [-16.21      ,   2.81506916],\n",
       "        [-37.2       ,   2.81506916]]),\n",
       " 'av_rho': 2.8762876075085257}"
      ]
     },
     "execution_count": 9,
     "metadata": {},
     "output_type": "execute_result"
    }
   ],
   "source": [
    "# xonvert Vp profile using \n",
    "profile.Vp_to_density_brocher()\n",
    "# show data diictionary\n",
    "profile.data"
   ]
  },
  {
   "cell_type": "markdown",
   "id": "401095ef-d55f-474d-bdbd-0151ad8702ae",
   "metadata": {},
   "source": [
    "### Plotting\n",
    "\n",
    "We can plot this `'rho'` profile using some of the routines in the `plotting` module."
   ]
  },
  {
   "cell_type": "code",
   "execution_count": 10,
   "id": "ac749bf6-a5a7-4d8e-9a67-3ef72a3f892e",
   "metadata": {},
   "outputs": [
    {
     "data": {
      "image/png": "[encoded data removed]",
      "text/plain": [
       "<Figure size 640x480 with 2 Axes>"
      ]
     },
     "metadata": {},
     "output_type": "display_data"
    }
   ],
   "source": [
    "# organise data for pltting\n",
    "data1 = [{'x': profile.data[\"Vp\"][:,1], \n",
    "          'y': profile.data[\"Vp\"][:,0],\n",
    "          'label': \"Vp\"}]\n",
    "\n",
    "data2 = [{'x': profile.data[\"rho\"][:,1], \n",
    "          'y': profile.data[\"rho\"][:,0],\n",
    "          'label': r'$\\rho$, Brocher (2005)'}]\n",
    "\n",
    "# Call the plot_panels function\n",
    "smplt.plot_panels([data1, data2], plot_type='line', \n",
    "            cmap=None, titles=['Velocity', 'Density'], \n",
    "            xlabels=[r'${V_P}$ (km/s)', r'$\\rho$ (Mg/m${^3}$)'], \n",
    "            ylabels=['Depth (km)', 'Depth (km)'],\n",
    "            z_values=None, figure_scale=0.8, \n",
    "            save_path=None)"
   ]
  },
  {
   "cell_type": "markdown",
   "id": "eeb939da-3498-47a3-8456-8d20b088886d",
   "metadata": {},
   "source": [
    "## Function approach\n",
    "\n",
    "Alternatively, if we prefer to work with functions rather than classes, then we can convert the velocity profile using a wrapper function.  In this case, everything is calculated and the appropriate classes and functions are called in the backend so that the user doesn't have to run individual methods.  This approach reduces flexibility but makes it possible to convert the profile into density with a one-liner.  This function also becomes useful later on if we want to convert multiple profiles at once and builds flexibility into the distriubution.\n",
    "\n",
    "First let's take a look at the docstring for the `convert_V_profile` function."
   ]
  },
  {
   "cell_type": "code",
   "execution_count": 13,
   "id": "81a08fa4-155e-4468-aab9-bcabb9e77e53",
   "metadata": {},
   "outputs": [
    {
     "name": "stdout",
     "output_type": "stream",
     "text": [
      "\u001b[0;31mSignature:\u001b[0m\n",
      "\u001b[0msmd\u001b[0m\u001b[0;34m.\u001b[0m\u001b[0mconvert_V_profile\u001b[0m\u001b[0;34m(\u001b[0m\u001b[0;34m\u001b[0m\n",
      "\u001b[0;34m\u001b[0m    \u001b[0mfile\u001b[0m\u001b[0;34m,\u001b[0m\u001b[0;34m\u001b[0m\n",
      "\u001b[0;34m\u001b[0m    \u001b[0mprofile_type\u001b[0m\u001b[0;34m,\u001b[0m\u001b[0;34m\u001b[0m\n",
      "\u001b[0;34m\u001b[0m    \u001b[0mwrite_data\u001b[0m\u001b[0;34m=\u001b[0m\u001b[0;32mFalse\u001b[0m\u001b[0;34m,\u001b[0m\u001b[0;34m\u001b[0m\n",
      "\u001b[0;34m\u001b[0m    \u001b[0mpath\u001b[0m\u001b[0;34m=\u001b[0m\u001b[0;32mNone\u001b[0m\u001b[0;34m,\u001b[0m\u001b[0;34m\u001b[0m\n",
      "\u001b[0;34m\u001b[0m    \u001b[0mapproach\u001b[0m\u001b[0;34m=\u001b[0m\u001b[0;34m'stephenson'\u001b[0m\u001b[0;34m,\u001b[0m\u001b[0;34m\u001b[0m\n",
      "\u001b[0;34m\u001b[0m    \u001b[0mlocation\u001b[0m\u001b[0;34m=\u001b[0m\u001b[0;32mNone\u001b[0m\u001b[0;34m,\u001b[0m\u001b[0;34m\u001b[0m\n",
      "\u001b[0;34m\u001b[0m    \u001b[0mparameters\u001b[0m\u001b[0;34m=\u001b[0m\u001b[0;32mNone\u001b[0m\u001b[0;34m,\u001b[0m\u001b[0;34m\u001b[0m\n",
      "\u001b[0;34m\u001b[0m    \u001b[0mconstant_depth\u001b[0m\u001b[0;34m=\u001b[0m\u001b[0;32mNone\u001b[0m\u001b[0;34m,\u001b[0m\u001b[0;34m\u001b[0m\n",
      "\u001b[0;34m\u001b[0m    \u001b[0mconstant_density\u001b[0m\u001b[0;34m=\u001b[0m\u001b[0;32mNone\u001b[0m\u001b[0;34m,\u001b[0m\u001b[0;34m\u001b[0m\n",
      "\u001b[0;34m\u001b[0m    \u001b[0mT_dependence\u001b[0m\u001b[0;34m=\u001b[0m\u001b[0;32mFalse\u001b[0m\u001b[0;34m,\u001b[0m\u001b[0;34m\u001b[0m\n",
      "\u001b[0;34m\u001b[0m    \u001b[0mgeotherm\u001b[0m\u001b[0;34m=\u001b[0m\u001b[0;32mNone\u001b[0m\u001b[0;34m,\u001b[0m\u001b[0;34m\u001b[0m\n",
      "\u001b[0;34m\u001b[0m    \u001b[0mprint_working_file\u001b[0m\u001b[0;34m=\u001b[0m\u001b[0;32mFalse\u001b[0m\u001b[0;34m,\u001b[0m\u001b[0;34m\u001b[0m\n",
      "\u001b[0;34m\u001b[0m\u001b[0;34m)\u001b[0m\u001b[0;34m\u001b[0m\u001b[0;34m\u001b[0m\u001b[0m\n",
      "\u001b[0;31mDocstring:\u001b[0m\n",
      "Convert a single Vp or Vs velocity profile to a density profile.\n",
      "\n",
      "Args:\n",
      "    file (str): Path to the input velocity profile file.\n",
      "    profile_type (str): Type of velocity profile, 'Vp' or 'Vs'.\n",
      "    write_data (bool, optional): If True, writes the converted data to \n",
      "        files. Default is False.\n",
      "    path (str, optional): Path to write the results. Default is None.\n",
      "    approach (str, optional): Density conversion scheme to use, \"brocher\" \n",
      "        or \"stephenson\". Default is \"stephenson\".\n",
      "    location (str, optional): Regional location of the profile. \n",
      "        Default is None.\n",
      "    parameters (np.ndarray, optional): Instance of the Constants, \n",
      "        VpConstants or VsConstants classes.  Must be instance\n",
      "        of the Constants class with a material_constants object if \n",
      "        T_dependence is set to True.\n",
      "    constant_depth (float, optional): Depth range for constant density \n",
      "        from the surface. Default is None.\n",
      "    constant_density (float, optional): Constant density value for the \n",
      "        uppermost x kilometers. Default is None.\n",
      "    T_dependence (bool, optional): If True, corrects velocity and density \n",
      "        for temperature and pressure. Default is False.\n",
      "    geotherm (object, optional): Instance of the Geotherm class for \n",
      "        temperature dependence.  Must be provided if T_dependence is set \n",
      "        to True.  Default is None.\n",
      "    print_working_file (bool, optional): If True, prints the file that is \n",
      "        being converted. Default is False.\n",
      "\n",
      "Returns:\n",
      "    pd.DataFrame: DataFrame containing the converted velocity and \n",
      "        density data.\n",
      "\n",
      "Example:\n",
      "    >>> convert_V_profile('velocity_profile.dat', 'Vp', write_data=True,\n",
      "    ...                   path='output/', approach='stephenson',\n",
      "    ...                   location='Region1', parameters=constants_object,\n",
      "    ...                   constant_depth=10.0, constant_density=2.7,\n",
      "    ...                   T_dependence=True, geotherm=geotherm_object,\n",
      "    ...                   print_working_file=True)\n",
      "\u001b[0;31mFile:\u001b[0m      ~/Work/SMV2rho/src/SMV2rho/density_functions.py\n",
      "\u001b[0;31mType:\u001b[0m      function"
     ]
    }
   ],
   "source": [
    "smd.convert_V_profile?"
   ]
  },
  {
   "cell_type": "markdown",
   "id": "07f3fb42-10aa-4385-a0ba-f9a05c3b7944",
   "metadata": {},
   "source": [
    "Now we can use it to convert our velocity profile using Brocher's (2005) approach (i.e. the _Nafe-Drake_ equation).  This time, we should see an output string telling us the path to the file that is being converted.  We can also print the output to check that the result is the same as before."
   ]
  },
  {
   "cell_type": "code",
   "execution_count": 15,
   "id": "94b1af36-f2a6-4a43-85bf-ffdf18cd1244",
   "metadata": {},
   "outputs": [
    {
     "name": "stdout",
     "output_type": "stream",
     "text": [
      "working on ../TEST_DATA/EUROPE/Vp/RECEIVER_FUNCTION/DATA/M19_AQU_Vp.dat\n"
     ]
    },
    {
     "data": {
      "text/plain": [
       "{'station': 'M19_AQU_Vp',\n",
       " 'Vp_file': '../TEST_DATA/EUROPE/Vp/RECEIVER_FUNCTION/DATA/M19_AQU_Vp.dat',\n",
       " 'region': None,\n",
       " 'moho': 37.2,\n",
       " 'location': array([13.48, 42.34]),\n",
       " 'av_Vp': 6.617358544354839,\n",
       " 'Vp': array([[  0.     ,   4.84865],\n",
       "        [ -2.5    ,   4.84865],\n",
       "        [ -2.51   ,   7.23144],\n",
       "        [-16.2    ,   7.23144],\n",
       "        [-16.21   ,   6.42768],\n",
       "        [-37.2    ,   6.42768]]),\n",
       " 'type': 'Vp',\n",
       " 'method': 'EUROPE',\n",
       " 'geotherm': None,\n",
       " 'rho': array([[  0.        ,   2.5119241 ],\n",
       "        [ -2.5       ,   2.5119241 ],\n",
       "        [ -2.51      ,   3.03672643],\n",
       "        [-16.2       ,   3.03672643],\n",
       "        [-16.21      ,   2.81506916],\n",
       "        [-37.2       ,   2.81506916]]),\n",
       " 'av_rho': 2.8762876075085257}"
      ]
     },
     "execution_count": 15,
     "metadata": {},
     "output_type": "execute_result"
    }
   ],
   "source": [
    "# call density conversion function\n",
    "# note that using profile_type=\"Vs\" first calls a function to convert to Vp\n",
    "# as is required by Brocher's (2005) approach.\n",
    "profile_brocher = smd.convert_V_profile(vp_file, \n",
    "                            profile_type=\"Vp\", \n",
    "                            approach=\"brocher\",\n",
    "                            print_working_file = True)\n",
    "\n",
    "# print output dictionary to check values\n",
    "profile_brocher"
   ]
  },
  {
   "cell_type": "markdown",
   "id": "c69ba79d-f16c-49ab-bc4d-a85b5080b51e",
   "metadata": {},
   "source": [
    "### Plotting\n",
    "\n",
    "We can plot up the result to check it is the same as before"
   ]
  },
  {
   "cell_type": "code",
   "execution_count": 16,
   "id": "80e71f1d-3e66-428b-a2f6-d52b7eafd9e5",
   "metadata": {},
   "outputs": [
    {
     "data": {
      "image/png": "[encoded data removed]",
      "text/plain": [
       "<Figure size 640x480 with 2 Axes>"
      ]
     },
     "metadata": {},
     "output_type": "display_data"
    }
   ],
   "source": [
    "# organise data for pltting\n",
    "data1 = [{'x': profile_brocher[\"Vp\"][:,1], \n",
    "          'y': profile_brocher[\"Vp\"][:,0],\n",
    "          'label': \"Vp\"}]\n",
    "\n",
    "data2 = [{'x': profile_brocher[\"rho\"][:,1], \n",
    "          'y': profile_brocher[\"rho\"][:,0],\n",
    "          'label': r'$\\rho$, Brocher (2005)'}]\n",
    "\n",
    "# Call the plot_panels function\n",
    "smplt.plot_panels([data1, data2], plot_type='line', \n",
    "            cmap=None, titles=['Velocity', 'Density'], \n",
    "            xlabels=[r'${V_P}$ (km/s)', r'$\\rho$ (Mg/m${^3}$)'], \n",
    "            ylabels=['Depth (km)', 'Depth (km)'],\n",
    "            z_values=None, figure_scale=0.8, \n",
    "            save_path=None)"
   ]
  },
  {
   "cell_type": "markdown",
   "id": "e07394ce",
   "metadata": {},
   "source": [
    "### Converting a $V_S$ file\n",
    "\n",
    "Converting a $V_S$ file requires an extra step because the _Nafe-Drake_ approach only provides a $V_P$-to-density conversion.  We therefore first need to convert the profile into $V_P$ and then into density."
   ]
  },
  {
   "cell_type": "code",
   "execution_count": 22,
   "id": "4deb73eb-d39a-4f87-83eb-468d2b2a510d",
   "metadata": {},
   "outputs": [],
   "source": [
    "vp_file = \"../TEST_DATA/EUROPE/Vs/RECEIVER_FUNCTION/DATA/M19_AQU_Vs.dat\"\n",
    "\n",
    "# load a profile into the Convert class\n",
    "profile_vs = smd.Convert(vp_file, profile_type = \"Vs\")\n",
    "profile_vs.read_data()"
   ]
  },
  {
   "cell_type": "markdown",
   "id": "361ec0fa",
   "metadata": {},
   "source": [
    "Now try and run the next cell to convert the profile into density.  We can immediately see that we are trying to convert a $V_S$ profile into density using an approach that is supposed to work only for $V_P$ profiles.\n",
    "\n",
    "To prevent this type of mistake, the program will throw a `NameError` because we have not yet generated a calculated $V_P$ profile to convert into density."
   ]
  },
  {
   "cell_type": "code",
   "execution_count": 24,
   "id": "cf4378c4",
   "metadata": {},
   "outputs": [
    {
     "ename": "NameError",
     "evalue": "You haven't created a Vp array yet! Convert Vs to Vp first!",
     "output_type": "error",
     "traceback": [
      "\u001b[0;31m---------------------------------------------------------------------------\u001b[0m",
      "\u001b[0;31mKeyError\u001b[0m                                  Traceback (most recent call last)",
      "File \u001b[0;32m~/Work/SMV2rho/src/SMV2rho/density_functions.py:428\u001b[0m, in \u001b[0;36mConvert.Vp_to_density_brocher\u001b[0;34m(self)\u001b[0m\n\u001b[1;32m    427\u001b[0m \u001b[38;5;28;01mtry\u001b[39;00m:\n\u001b[0;32m--> 428\u001b[0m     \u001b[38;5;28;43mself\u001b[39;49m\u001b[38;5;241;43m.\u001b[39;49m\u001b[43mdata\u001b[49m\u001b[43m[\u001b[49m\u001b[38;5;124;43m\"\u001b[39;49m\u001b[38;5;124;43mVp_calc\u001b[39;49m\u001b[38;5;124;43m\"\u001b[39;49m\u001b[43m]\u001b[49m\n\u001b[1;32m    429\u001b[0m \u001b[38;5;28;01mexcept\u001b[39;00m \u001b[38;5;167;01mKeyError\u001b[39;00m:\n",
      "\u001b[0;31mKeyError\u001b[0m: 'Vp_calc'",
      "\nDuring handling of the above exception, another exception occurred:\n",
      "\u001b[0;31mNameError\u001b[0m                                 Traceback (most recent call last)",
      "Cell \u001b[0;32mIn[24], line 1\u001b[0m\n\u001b[0;32m----> 1\u001b[0m \u001b[43mprofile_vs\u001b[49m\u001b[38;5;241;43m.\u001b[39;49m\u001b[43mVp_to_density_brocher\u001b[49m\u001b[43m(\u001b[49m\u001b[43m)\u001b[49m\n",
      "File \u001b[0;32m~/Work/SMV2rho/src/SMV2rho/density_functions.py:430\u001b[0m, in \u001b[0;36mConvert.Vp_to_density_brocher\u001b[0;34m(self)\u001b[0m\n\u001b[1;32m    428\u001b[0m         \u001b[38;5;28mself\u001b[39m\u001b[38;5;241m.\u001b[39mdata[\u001b[38;5;124m\"\u001b[39m\u001b[38;5;124mVp_calc\u001b[39m\u001b[38;5;124m\"\u001b[39m]\n\u001b[1;32m    429\u001b[0m     \u001b[38;5;28;01mexcept\u001b[39;00m \u001b[38;5;167;01mKeyError\u001b[39;00m:\n\u001b[0;32m--> 430\u001b[0m         \u001b[38;5;28;01mraise\u001b[39;00m \u001b[38;5;167;01mNameError\u001b[39;00m(\u001b[38;5;124m\"\u001b[39m\u001b[38;5;124mYou haven\u001b[39m\u001b[38;5;124m'\u001b[39m\u001b[38;5;124mt created a Vp array yet! \u001b[39m\u001b[38;5;124m\"\u001b[39m\n\u001b[1;32m    431\u001b[0m               \u001b[38;5;124m\"\u001b[39m\u001b[38;5;124mConvert Vs to Vp first!\u001b[39m\u001b[38;5;124m\"\u001b[39m)\n\u001b[1;32m    432\u001b[0m     rho \u001b[38;5;241m=\u001b[39m np\u001b[38;5;241m.\u001b[39mcolumn_stack((\u001b[38;5;28mself\u001b[39m\u001b[38;5;241m.\u001b[39mdata[\u001b[38;5;124m\"\u001b[39m\u001b[38;5;124mVp_calc\u001b[39m\u001b[38;5;124m\"\u001b[39m][:,\u001b[38;5;241m0\u001b[39m], \n\u001b[1;32m    433\u001b[0m                            Vp2rho_brocher(\u001b[38;5;28mself\u001b[39m\u001b[38;5;241m.\u001b[39mdata[\u001b[38;5;124m\"\u001b[39m\u001b[38;5;124mVp_calc\u001b[39m\u001b[38;5;124m\"\u001b[39m][:,\u001b[38;5;241m1\u001b[39m])))\n\u001b[1;32m    434\u001b[0m \u001b[38;5;66;03m# add Vs profile, average Vs and Vp/Vs ratio to dictionary\u001b[39;00m\n",
      "\u001b[0;31mNameError\u001b[0m: You haven't created a Vp array yet! Convert Vs to Vp first!"
     ]
    }
   ],
   "source": [
    "profile_vs.Vp_to_density_brocher()"
   ]
  },
  {
   "cell_type": "markdown",
   "id": "de96562f",
   "metadata": {},
   "source": [
    "We must first generate a calculated $V_P$ profile using Brocher's (2005) polynomial fit.\n",
    "\n",
    "If we then print the data dictionary we can see that there is now a `'Vp_calc'` entry and an `'av_Vp_calc'` array."
   ]
  },
  {
   "cell_type": "code",
   "execution_count": 41,
   "id": "13b8d65a",
   "metadata": {},
   "outputs": [
    {
     "data": {
      "text/plain": [
       "{'station': 'M19_AQU_Vs',\n",
       " 'Vs_file': '../TEST_DATA/EUROPE/Vs/RECEIVER_FUNCTION/DATA/M19_AQU_Vs.dat',\n",
       " 'region': None,\n",
       " 'moho': 37.2,\n",
       " 'location': array([13.48, 42.34]),\n",
       " 'av_Vs': 3.2977979690860213,\n",
       " 'Vs': array([[  0.     ,   2.19945],\n",
       "        [ -2.5    ,   2.19945],\n",
       "        [ -2.51   ,   3.45455],\n",
       "        [-16.2    ,   3.45455],\n",
       "        [-16.21   ,   3.32656],\n",
       "        [-37.2    ,   3.32656]]),\n",
       " 'type': 'Vs',\n",
       " 'method': 'EUROPE',\n",
       " 'geotherm': None,\n",
       " 'Vp_calc': array([[  0.        ,   3.84569101],\n",
       "        [ -2.5       ,   3.84569101],\n",
       "        [ -2.51      ,   5.87049279],\n",
       "        [-16.2       ,   5.87049279],\n",
       "        [-16.21      ,   5.63121299],\n",
       "        [-37.2       ,   5.63121299]]),\n",
       " 'av_Vp_calc': 5.59910010709708,\n",
       " 'Vp_calc_Vs': 1.6978299336659668,\n",
       " 'rho': array([[  0.        ,   2.37138868],\n",
       "        [ -2.5       ,   2.37138868],\n",
       "        [ -2.51      ,   2.68947595],\n",
       "        [-16.2       ,   2.68947595],\n",
       "        [-16.21      ,   2.6423109 ],\n",
       "        [-37.2       ,   2.6423109 ]]),\n",
       " 'av_rho': 2.6414372703680047}"
      ]
     },
     "execution_count": 41,
     "metadata": {},
     "output_type": "execute_result"
    }
   ],
   "source": [
    "profile_vs.Vs_to_Vp_brocher()\n",
    "profile_vs.Vp_to_density_brocher()\n",
    "profile_vs.data"
   ]
  },
  {
   "cell_type": "markdown",
   "id": "e638b53a",
   "metadata": {},
   "source": [
    "Converting using the function approach described above can be achieved with a one-liner, where converting frm $V_s$ into $V_P$ is handled internally and automatically. "
   ]
  },
  {
   "cell_type": "code",
   "execution_count": 40,
   "id": "f68db5d4",
   "metadata": {},
   "outputs": [
    {
     "name": "stdout",
     "output_type": "stream",
     "text": [
      "working on ../TEST_DATA/EUROPE/Vs/RECEIVER_FUNCTION/DATA/M19_AQU_Vs.dat\n"
     ]
    },
    {
     "data": {
      "text/plain": [
       "{'station': 'M19_AQU_Vs',\n",
       " 'Vs_file': '../TEST_DATA/EUROPE/Vs/RECEIVER_FUNCTION/DATA/M19_AQU_Vs.dat',\n",
       " 'region': None,\n",
       " 'moho': 37.2,\n",
       " 'location': array([13.48, 42.34]),\n",
       " 'av_Vs': 3.2977979690860213,\n",
       " 'Vs': array([[  0.     ,   2.19945],\n",
       "        [ -2.5    ,   2.19945],\n",
       "        [ -2.51   ,   3.45455],\n",
       "        [-16.2    ,   3.45455],\n",
       "        [-16.21   ,   3.32656],\n",
       "        [-37.2    ,   3.32656]]),\n",
       " 'type': 'Vs',\n",
       " 'method': 'EUROPE',\n",
       " 'geotherm': None,\n",
       " 'Vp_calc': array([[  0.        ,   3.84569101],\n",
       "        [ -2.5       ,   3.84569101],\n",
       "        [ -2.51      ,   5.87049279],\n",
       "        [-16.2       ,   5.87049279],\n",
       "        [-16.21      ,   5.63121299],\n",
       "        [-37.2       ,   5.63121299]]),\n",
       " 'av_Vp_calc': 5.59910010709708,\n",
       " 'Vp_calc_Vs': 1.6978299336659668,\n",
       " 'rho': array([[  0.        ,   2.37138868],\n",
       "        [ -2.5       ,   2.37138868],\n",
       "        [ -2.51      ,   2.68947595],\n",
       "        [-16.2       ,   2.68947595],\n",
       "        [-16.21      ,   2.6423109 ],\n",
       "        [-37.2       ,   2.6423109 ]]),\n",
       " 'av_rho': 2.6414372703680047}"
      ]
     },
     "execution_count": 40,
     "metadata": {},
     "output_type": "execute_result"
    }
   ],
   "source": [
    "# call density conversion function\n",
    "# note that using profile_type=\"Vs\" first calls a function to convert to Vp\n",
    "# as is required by Brocher's (2005) approach.\n",
    "profile_vs_brocher = smd.convert_V_profile(vp_file, \n",
    "                            profile_type=\"Vs\", \n",
    "                            approach=\"brocher\",\n",
    "                            print_working_file = True)\n",
    "\n",
    "# print output dictionary to check values\n",
    "profile_vs_brocher"
   ]
  },
  {
   "cell_type": "markdown",
   "id": "3cf9958f",
   "metadata": {},
   "source": [
    "### Summary\n",
    "\n",
    "We converted a $V_P$ and $V_S$ profile into density using Brocher's (2005) approach, which exploits the _Nafe-Drake_ relationship.  We saw how we can convert these profiles using either a class approach or with a wrapper function to increase flexibility for your needs.\n",
    "\n",
    "Note that this profile returns quite dramatically different density profiles for the $V_S$ and $V_P$ approaches.  This difference may arise from local issues with either the imaging technique, assumed $V_P/V_S$ ratio, or local geology.  This degree of difference is relatively extreme, but does highlight the challenges in converting from seismic velocity to density and the inherent reliance on the accuracy of the underlying seismic velocity model and conversion scheme."
   ]
  }
 ],
 "metadata": {
  "kernelspec": {
   "display_name": "Python 3 (ipykernel)",
   "language": "python",
   "name": "python3"
  },
  "language_info": {
   "codemirror_mode": {
    "name": "ipython",
    "version": 3
   },
   "file_extension": ".py",
   "mimetype": "text/x-python",
   "name": "python",
   "nbconvert_exporter": "python",
   "pygments_lexer": "ipython3",
   "version": "3.11.5"
  }
 },
 "nbformat": 4,
 "nbformat_minor": 5
}
