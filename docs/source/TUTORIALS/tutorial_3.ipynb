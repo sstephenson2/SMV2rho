{
 "cells": [
  {
   "cell_type": "markdown",
   "id": "84c87079-f27b-4458-ba34-e2192d9e0977",
   "metadata": {},
   "source": [
    "# SMV2rho: Tutorial 3\n",
    "\n",
    "In this tutorial we will further explore converting a $V_S$ profile to density using Brocher's (2005) approach with a different profile.  To generate a density profile from $V_S$, we need to convert to $V_P$ first as Brocher uses the _Nafe-Drake_ relationship which does not have a separate parameterisation for $V_S$.\n",
    "\n",
    "First let's import the required modules from `SMV2rho`."
   ]
  },
  {
   "cell_type": "code",
   "execution_count": 1,
   "id": "9e4e0224-cf2b-4d5d-b98a-7f963a331fcc",
   "metadata": {},
   "outputs": [
    {
     "name": "stdout",
     "output_type": "stream",
     "text": [
      "Intel MKL WARNING: Support of Intel(R) Streaming SIMD Extensions 4.2 (Intel(R) SSE4.2) enabled only processors has been deprecated. Intel oneAPI Math Kernel Library 2025.0 will require Intel(R) Advanced Vector Extensions (Intel(R) AVX) instructions.\n",
      "Intel MKL WARNING: Support of Intel(R) Streaming SIMD Extensions 4.2 (Intel(R) SSE4.2) enabled only processors has been deprecated. Intel oneAPI Math Kernel Library 2025.0 will require Intel(R) Advanced Vector Extensions (Intel(R) AVX) instructions.\n"
     ]
    }
   ],
   "source": [
    "# import modules\n",
    "from SMV2rho import plotting as smplt\n",
    "from SMV2rho import density_functions as smd"
   ]
  },
  {
   "cell_type": "markdown",
   "id": "16f943dc-816b-4556-8537-3b158f40058d",
   "metadata": {},
   "source": [
    "## Class approach\n",
    "### Load file\n",
    "\n",
    "We can load in the test $V_P$ velocity profile.  We will use the `profile_type` variable to label the profile `'Vs'`.  We will tell the program that the profile is in the Hudson_Bay region.  Note that if this is not set, then the region will be set to either `None` or will be picked up from the file string.  It can only be picked up automatically from the file string if the correct file structure is being used!"
   ]
  },
  {
   "cell_type": "code",
   "execution_count": 3,
   "id": "2f8d12f6-9c29-4510-bcf6-6c61a630c0a9",
   "metadata": {},
   "outputs": [],
   "source": [
    "# path to test velocity file\n",
    "#  - this file comes with the distribution so there is no need to change this path\n",
    "#  - uncomment vs and change references to Vs to Vp to test with a Vp file.\n",
    "vs_file = \"../TEST_DATA/HUDSON_BAY/Vs/RECEIVER_FUNCTION/DATA/AKVQ.dat\"\n",
    "#vp_file = \"../TEST_DATA/EUROPE/Vp/RECEIVER_FUNCTION/DATA/M19_AQU_Vp.dat\"\n",
    "\n",
    "# load a profile into the Convert class -- note this time we are labellig the profile_type \"Vs\"\n",
    "profile = smd.Convert(vs_file, profile_type = \"Vs\", region_name = \"HUDSON_BAY\")"
   ]
  },
  {
   "cell_type": "markdown",
   "id": "4eaf759c-f2ab-40f1-b61a-c5f1c4dcc6dc",
   "metadata": {},
   "source": [
    "### Read data\n",
    "\n",
    "Now read the data in the velocity profile file."
   ]
  },
  {
   "cell_type": "code",
   "execution_count": 4,
   "id": "e5315dae-c192-4f1f-a66e-41995702fd9b",
   "metadata": {},
   "outputs": [
    {
     "data": {
      "text/plain": [
       "dict_keys(['station', 'Vs_file', 'region', 'moho', 'location', 'av_Vs', 'Vs', 'type', 'method', 'geotherm'])"
      ]
     },
     "execution_count": 4,
     "metadata": {},
     "output_type": "execute_result"
    }
   ],
   "source": [
    "# read data\n",
    "profile.read_data()\n",
    "\n",
    "# print data dictionary keys to check fields\n",
    "profile.data.keys()"
   ]
  },
  {
   "cell_type": "markdown",
   "id": "74e353c0-ca14-499b-816e-ca8691a28bfc",
   "metadata": {},
   "source": [
    "### Converting Vs profile\n",
    "\n",
    "Now we will try to convert this profile to density using the `Vp_to_density_brocher` method.  Attempting to run this method will raise a `NameError` because we have not generated a $V_S$ profile yet.  Brocher's approach requires us to first convert $V_S$ into $V_P$ using the polynomial regression in the 2005 paper, and then into density using the _Nafe-Drake_ relationship.  The workflow requires this ordering so that we keep track of the steps required to generate a density profile from a Vs profile using the _Nafe-Drake_ relationship."
   ]
  },
  {
   "cell_type": "code",
   "execution_count": 6,
   "id": "8b1e12db-ebec-48da-a084-d55fb66c8ee2",
   "metadata": {},
   "outputs": [
    {
     "ename": "NameError",
     "evalue": "You haven't created a Vp array yet! Convert Vs to Vp first!",
     "output_type": "error",
     "traceback": [
      "\u001b[0;31m---------------------------------------------------------------------------\u001b[0m",
      "\u001b[0;31mKeyError\u001b[0m                                  Traceback (most recent call last)",
      "File \u001b[0;32m~/Work/SMV2rho/src/SMV2rho/density_functions.py:428\u001b[0m, in \u001b[0;36mConvert.Vp_to_density_brocher\u001b[0;34m(self)\u001b[0m\n\u001b[1;32m    427\u001b[0m \u001b[38;5;28;01mtry\u001b[39;00m:\n\u001b[0;32m--> 428\u001b[0m     \u001b[38;5;28;43mself\u001b[39;49m\u001b[38;5;241;43m.\u001b[39;49m\u001b[43mdata\u001b[49m\u001b[43m[\u001b[49m\u001b[38;5;124;43m\"\u001b[39;49m\u001b[38;5;124;43mVp_calc\u001b[39;49m\u001b[38;5;124;43m\"\u001b[39;49m\u001b[43m]\u001b[49m\n\u001b[1;32m    429\u001b[0m \u001b[38;5;28;01mexcept\u001b[39;00m \u001b[38;5;167;01mKeyError\u001b[39;00m:\n",
      "\u001b[0;31mKeyError\u001b[0m: 'Vp_calc'",
      "\nDuring handling of the above exception, another exception occurred:\n",
      "\u001b[0;31mNameError\u001b[0m                                 Traceback (most recent call last)",
      "Cell \u001b[0;32mIn[6], line 1\u001b[0m\n\u001b[0;32m----> 1\u001b[0m \u001b[43mprofile\u001b[49m\u001b[38;5;241;43m.\u001b[39;49m\u001b[43mVp_to_density_brocher\u001b[49m\u001b[43m(\u001b[49m\u001b[43m)\u001b[49m\n",
      "File \u001b[0;32m~/Work/SMV2rho/src/SMV2rho/density_functions.py:430\u001b[0m, in \u001b[0;36mConvert.Vp_to_density_brocher\u001b[0;34m(self)\u001b[0m\n\u001b[1;32m    428\u001b[0m         \u001b[38;5;28mself\u001b[39m\u001b[38;5;241m.\u001b[39mdata[\u001b[38;5;124m\"\u001b[39m\u001b[38;5;124mVp_calc\u001b[39m\u001b[38;5;124m\"\u001b[39m]\n\u001b[1;32m    429\u001b[0m     \u001b[38;5;28;01mexcept\u001b[39;00m \u001b[38;5;167;01mKeyError\u001b[39;00m:\n\u001b[0;32m--> 430\u001b[0m         \u001b[38;5;28;01mraise\u001b[39;00m \u001b[38;5;167;01mNameError\u001b[39;00m(\u001b[38;5;124m\"\u001b[39m\u001b[38;5;124mYou haven\u001b[39m\u001b[38;5;124m'\u001b[39m\u001b[38;5;124mt created a Vp array yet! \u001b[39m\u001b[38;5;124m\"\u001b[39m\n\u001b[1;32m    431\u001b[0m               \u001b[38;5;124m\"\u001b[39m\u001b[38;5;124mConvert Vs to Vp first!\u001b[39m\u001b[38;5;124m\"\u001b[39m)\n\u001b[1;32m    432\u001b[0m     rho \u001b[38;5;241m=\u001b[39m np\u001b[38;5;241m.\u001b[39mcolumn_stack((\u001b[38;5;28mself\u001b[39m\u001b[38;5;241m.\u001b[39mdata[\u001b[38;5;124m\"\u001b[39m\u001b[38;5;124mVp_calc\u001b[39m\u001b[38;5;124m\"\u001b[39m][:,\u001b[38;5;241m0\u001b[39m], \n\u001b[1;32m    433\u001b[0m                            Vp2rho_brocher(\u001b[38;5;28mself\u001b[39m\u001b[38;5;241m.\u001b[39mdata[\u001b[38;5;124m\"\u001b[39m\u001b[38;5;124mVp_calc\u001b[39m\u001b[38;5;124m\"\u001b[39m][:,\u001b[38;5;241m1\u001b[39m])))\n\u001b[1;32m    434\u001b[0m \u001b[38;5;66;03m# add Vs profile, average Vs and Vp/Vs ratio to dictionary\u001b[39;00m\n",
      "\u001b[0;31mNameError\u001b[0m: You haven't created a Vp array yet! Convert Vs to Vp first!"
     ]
    }
   ],
   "source": [
    "profile.Vp_to_density_brocher()"
   ]
  },
  {
   "cell_type": "markdown",
   "id": "4ef1a10b-3d25-4b86-b692-802ceaddf453",
   "metadata": {},
   "source": [
    "This error tells us that we have missed a step!  First we need to run `Vs_to_Vp_brocher` in order to generate a calculated Vp profile.  Try the following..."
   ]
  },
  {
   "cell_type": "code",
   "execution_count": 9,
   "id": "a3f35fc3-803a-48a3-94d1-6acba93efe65",
   "metadata": {},
   "outputs": [
    {
     "data": {
      "text/plain": [
       "dict_keys(['station', 'Vs_file', 'region', 'moho', 'location', 'av_Vs', 'Vs', 'type', 'method', 'geotherm', 'Vp_calc', 'av_Vp_calc', 'Vp_calc_Vs', 'rho', 'av_rho'])"
      ]
     },
     "execution_count": 9,
     "metadata": {},
     "output_type": "execute_result"
    }
   ],
   "source": [
    "# convert Vs profile to Vp\n",
    "profile.Vs_to_Vp_brocher()\n",
    "\n",
    "# convert calculated Vp profile into density\n",
    "profile.Vp_to_density_brocher()\n",
    "\n",
    "# check the keys of the updated dictionary\n",
    "profile.data.keys()"
   ]
  },
  {
   "cell_type": "markdown",
   "id": "07157822-b629-4b9d-b078-7ce388e0d917",
   "metadata": {},
   "source": [
    "We can now see that we have generated a number of new  dictionary fields in `profile.data`.  These fields include `'Vp_calc'`, `'rho'`, and their corresponding average values.  these fields contain the calculated $V_P$ and density profiles as a function of depth, and their depth-averaged bulk values."
   ]
  },
  {
   "cell_type": "markdown",
   "id": "f1de29a3-0ce4-4615-a737-cdf2af0df8d2",
   "metadata": {},
   "source": [
    "## Function Approach\n",
    "\n",
    "As seen in tutorial 2, we can instead implement an approach that uses the `convert_V_profile` function to calculate the profile.  This approach gives us less flexibility but achieves the same outcome if the user is not so comfortable with classes.  It is a simple one-liner, in which the function organises all the data and runs the approprite conversion functions and classes in the back end.\n",
    "\n",
    "Note that we must use `profile_type = 'Vs'`."
   ]
  },
  {
   "cell_type": "code",
   "execution_count": 11,
   "id": "42aa05aa-c8d0-4f77-82b0-7266633c4255",
   "metadata": {},
   "outputs": [
    {
     "name": "stdout",
     "output_type": "stream",
     "text": [
      "working on ../TEST_DATA/HUDSON_BAY/Vs/RECEIVER_FUNCTION/DATA/AKVQ.dat\n"
     ]
    },
    {
     "data": {
      "text/plain": [
       "dict_keys(['station', 'Vs_file', 'region', 'moho', 'location', 'av_Vs', 'Vs', 'type', 'method', 'geotherm', 'Vp_calc', 'av_Vp_calc', 'Vp_calc_Vs', 'rho', 'av_rho'])"
      ]
     },
     "execution_count": 11,
     "metadata": {},
     "output_type": "execute_result"
    }
   ],
   "source": [
    "# call density conversion function\n",
    "# note that using profile_type=\"Vs\" first calls a function to convert to Vp\n",
    "# as is required by Brocher's (2005) approach.\n",
    "profile_brocher = smd.convert_V_profile(vs_file, \n",
    "                            profile_type=\"Vs\", \n",
    "                            approach=\"brocher\",\n",
    "                            print_working_file = True)\n",
    "\n",
    "# print the keys to check that the outputs are identical to the class method\n",
    "profile_brocher.keys()"
   ]
  },
  {
   "cell_type": "markdown",
   "id": "5f9527f0-032f-4f35-991d-380068bfdcd4",
   "metadata": {},
   "source": [
    "## Plotting\n",
    "\n",
    "Now let's plot up a couple of things to check what the results look like..."
   ]
  },
  {
   "cell_type": "code",
   "execution_count": 12,
   "id": "9a7a4c08-da9b-4c95-a3ee-dd9291bd687e",
   "metadata": {},
   "outputs": [
    {
     "data": {
      "image/png": "[encoded data removed]",
      "text/plain": [
       "<Figure size 560x420 with 3 Axes>"
      ]
     },
     "metadata": {},
     "output_type": "display_data"
    }
   ],
   "source": [
    "# Define plot settings\n",
    "plot_type = 'line'\n",
    "titles = [r'Observed ${V_S}$', r'Calculated ${V_P}$', r'Calculated $\\rho$']\n",
    "xlabels = [r'${V_S}$ (km/s)', r'${V_P}$ (km/s)', r'$\\rho$ (Mg/m${^3}$)']\n",
    "ylabels = ['Depth (km)', 'Depth (km)', 'Depth (km)']\n",
    "\n",
    "# data1, data2 and data3 -- list of dictionaries for each panel for each data series.\n",
    "data1 = [{'x': profile_brocher[\"Vs\"][:,1], 'y': profile_brocher[\"Vs\"][:,0]}]\n",
    "data2 = [{'x': profile_brocher[\"Vp_calc\"][:,1], 'y': profile_brocher[\"Vp_calc\"][:,0]}]\n",
    "data3 = [{'x': profile_brocher[\"rho\"][:,1], 'y': profile_brocher[\"rho\"][:,0]}]\n",
    "\n",
    "# Call the plot_panels function\n",
    "smplt.plot_panels([data1, data2, data3], plot_type=plot_type, \n",
    "            cmap=None, titles=titles, \n",
    "            xlabels=xlabels, ylabels=ylabels,\n",
    "            z_values=None, figure_scale=0.7, \n",
    "            save_path=None)"
   ]
  }
 ],
 "metadata": {
  "kernelspec": {
   "display_name": "Python 3 (ipykernel)",
   "language": "python",
   "name": "python3"
  },
  "language_info": {
   "codemirror_mode": {
    "name": "ipython",
    "version": 3
   },
   "file_extension": ".py",
   "mimetype": "text/x-python",
   "name": "python",
   "nbconvert_exporter": "python",
   "pygments_lexer": "ipython3",
   "version": "3.11.5"
  }
 },
 "nbformat": 4,
 "nbformat_minor": 5
}
